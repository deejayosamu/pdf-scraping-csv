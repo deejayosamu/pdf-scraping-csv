{
 "cells": [
  {
   "cell_type": "code",
   "execution_count": 1,
   "id": "25086534",
   "metadata": {},
   "outputs": [],
   "source": [
    "import pysolr\n",
    "\n",
    "# set the address of solr server\n",
    "solr = pysolr.Solr('http://localhost:8983/solr/benz-price-list-new', always_commit=True)"
   ]
  },
  {
   "cell_type": "code",
   "execution_count": 2,
   "id": "c10c8889",
   "metadata": {},
   "outputs": [
    {
     "data": {
      "text/plain": [
       "'{\\n  \"responseHeader\":{\\n    \"zkConnected\":true,\\n    \"status\":0,\\n    \"QTime\":0,\\n    \"params\":{\\n      \"q\":\"{!lucene}*:*\",\\n      \"distrib\":\"false\",\\n      \"df\":\"_text_\",\\n      \"rows\":\"10\",\\n      \"echoParams\":\"all\",\\n      \"rid\":\"localhost-732\"\\n    }\\n  },\\n  \"status\":\"OK\"\\n}'"
      ]
     },
     "execution_count": 2,
     "metadata": {},
     "output_type": "execute_result"
    }
   ],
   "source": [
    "# check the connection \n",
    "solr.ping()"
   ]
  },
  {
   "cell_type": "code",
   "execution_count": 3,
   "id": "64efb993",
   "metadata": {},
   "outputs": [],
   "source": [
    "# search the contents about 'gla'\n",
    "result_gla = solr.search('gla')"
   ]
  },
  {
   "cell_type": "code",
   "execution_count": 4,
   "id": "bf775d8d",
   "metadata": {},
   "outputs": [
    {
     "name": "stdout",
     "output_type": "stream",
     "text": [
      "For ['GLA 180 ']\n",
      " Max Torque is [230]Nm\n",
      " Engine/Zylinder is ['Benziner/R4']\n",
      " Displacement is [1332]cm3\n",
      " Fuel Consumption is ['7,3 - 6,7']l/100km\n",
      " Co2 Emission is ['165 - 152']g/km\n",
      " Price is [42790]euro\n",
      "For ['GLB 180 ']\n",
      " Max Torque is [230]Nm\n",
      " Engine/Zylinder is ['Benziner/R4']\n",
      " Displacement is [1332]cm3\n",
      " Fuel Consumption is ['7,6 - 7,0']l/100km\n",
      " Co2 Emission is ['173 - 158']g/km\n",
      " Price is [44090]euro\n",
      "For ['GLA 200 d 4MATIC']\n",
      " Max Torque is [320]Nm\n",
      " Engine/Zylinder is ['Diesel/R4']\n",
      " Displacement is [1950]cm3\n",
      " Fuel Consumption is ['6,2 - 5,6']l/100km\n",
      " Co2 Emission is ['162 - 148']g/km\n",
      " Price is [48360]euro\n",
      "For ['GLB 200 d 4MATIC']\n",
      " Max Torque is [320]Nm\n",
      " Engine/Zylinder is ['Diesel/R4']\n",
      " Displacement is [1950]cm3\n",
      " Fuel Consumption is ['6,4 - 5,8']l/100km\n",
      " Co2 Emission is ['167 - 153']g/km\n",
      " Price is [50380]euro\n"
     ]
    }
   ],
   "source": [
    "# extract the answer from contents using 'answer' module\n",
    "from answer import answer\n",
    "\n",
    "answer_gla = answer(result_gla)\n",
    "answer_gla.answer()"
   ]
  },
  {
   "cell_type": "code",
   "execution_count": 5,
   "id": "189fb14a",
   "metadata": {},
   "outputs": [],
   "source": [
    "# search the contents about 'eqa'\n",
    "result_eqa = solr.search('eqa')"
   ]
  },
  {
   "cell_type": "code",
   "execution_count": 6,
   "id": "0228b693",
   "metadata": {},
   "outputs": [
    {
     "name": "stdout",
     "output_type": "stream",
     "text": [
      "For ['EQA 250 ']\n",
      " Battery Capacity is [66.5]kWh\n",
      " Max Torque is [385]\n",
      " Drive Range is ['457 – 525']km\n",
      " Price is [49990]euro\n",
      "For ['EQA 250+ ']\n",
      " Battery Capacity is [70.5]kWh\n",
      " Max Torque is [385]\n",
      " Drive Range is ['497 – 559']km\n",
      " Price is [52990]euro\n",
      "For ['EQA 300 4MATIC']\n",
      " Battery Capacity is [66.5]kWh\n",
      " Max Torque is [390]\n",
      " Drive Range is ['412 – 457']km\n",
      " Price is [54990]euro\n"
     ]
    }
   ],
   "source": [
    "# extract the answer from contents using 'answer' module\n",
    "answer_eqa = answer(result_eqa)\n",
    "answer_eqa.answer()"
   ]
  }
 ],
 "metadata": {
  "kernelspec": {
   "display_name": "Python 3 (ipykernel)",
   "language": "python",
   "name": "python3"
  },
  "language_info": {
   "codemirror_mode": {
    "name": "ipython",
    "version": 3
   },
   "file_extension": ".py",
   "mimetype": "text/x-python",
   "name": "python",
   "nbconvert_exporter": "python",
   "pygments_lexer": "ipython3",
   "version": "3.9.12"
  }
 },
 "nbformat": 4,
 "nbformat_minor": 5
}
