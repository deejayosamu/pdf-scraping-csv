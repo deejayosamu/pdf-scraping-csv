{
 "cells": [
  {
   "cell_type": "code",
   "execution_count": 1,
   "metadata": {
    "executionInfo": {
     "elapsed": 2,
     "status": "ok",
     "timestamp": 1705591025936,
     "user": {
      "displayName": "서광원",
      "userId": "16565142075503869200"
     },
     "user_tz": -60
    },
    "id": "0B2S7CxLTtvr"
   },
   "outputs": [],
   "source": [
    "from tika import parser\n",
    "\n",
    "path ='./Mercedes-Benz-Preisliste-2024-Oesterreich-Edition.pdf'"
   ]
  },
  {
   "cell_type": "code",
   "execution_count": 2,
   "metadata": {
    "colab": {
     "base_uri": "https://localhost:8080/"
    },
    "executionInfo": {
     "elapsed": 1494,
     "status": "ok",
     "timestamp": 1705591027428,
     "user": {
      "displayName": "서광원",
      "userId": "16565142075503869200"
     },
     "user_tz": -60
    },
    "id": "xmUoWANtXF-0",
    "outputId": "46bff952-32d8-4d74-9550-12c8ed8cfe64"
   },
   "outputs": [
    {
     "name": "stdout",
     "output_type": "stream",
     "text": [
      "{'metadata': {'pdf:PDFVersion': '1.7', 'xmp:CreatorTool': 'Adobe InDesign 19.0 (Macintosh)', 'pdf:hasXFA': 'false', 'access_permission:can_print_degraded': 'true', 'X-TIKA:Parsed-By-Full-Set': ['org.apache.tika.parser.DefaultParser', 'org.apache.tika.parser.pdf.PDFParser'], 'X-TIKA:content_handler': 'ToTextContentHandler', 'pdf:num3DAnnotations': '0', 'dc:format': 'application/pdf; version=1.7', 'pdf:docinfo:creator_tool': 'Adobe InDesign 19.0 (Macintosh)', 'access_permission:fill_in_form': 'true', 'pdf:hasCollection': 'false', 'pdf:encrypted': 'false', 'pdf:containsNonEmbeddedFont': 'false', 'xmp:CreateDate': '2023-12-20T09:18:57Z', 'pdf:hasMarkedContent': 'false', 'xmp:ModifyDate': '2023-12-20T09:18:58Z', 'access_permission:extract_for_accessibility': 'true', 'resourceName': \"b'Mercedes-Benz-Preisliste-2024-Oesterreich-Edition.pdf'\", 'pdf:hasAcroFormFields': 'true', 'xmpMM:DerivedFrom:DocumentID': 'xmp.did:206ceb27-914f-49b0-9857-ac5f3f0b8bac', 'X-TIKA:Parsed-By': ['org.apache.tika.parser.DefaultParser', 'org.apache.tika.parser.pdf.PDFParser'], 'X-TIKA:embedded_depth': '0', 'pdf:annotationTypes': 'null', 'pdf:docinfo:producer': 'Adobe PDF Library 17.0', 'pdf:annotationSubtypes': 'Widget', 'pdf:containsDamagedFont': 'false', 'pdf:unmappedUnicodeCharsPerPage': ['0', '0', '0', '0', '0', '0', '0', '0', '0', '0', '0', '0', '0', '0', '0', '0', '0', '0', '0', '0'], 'access_permission:modify_annotations': 'true', 'dcterms:created': '2023-12-20T08:18:57Z', 'dcterms:modified': '2023-12-20T08:18:58Z', 'xmpMM:DocumentID': 'xmp.id:54ecca1e-5879-4b81-93ac-c142d2f4e4cc', 'pdf:overallPercentageUnmappedUnicodeChars': '0.0', 'pdf:docinfo:modified': '2023-12-20T08:18:58Z', 'Content-Length': '394898', 'Content-Type': 'application/pdf', 'xmp:MetadataDate': '2023-12-20T09:18:58Z', 'dc:language': 'de-DE', 'pdf:producer': 'Adobe PDF Library 17.0', 'pdf:totalUnmappedUnicodeChars': '0', 'access_permission:assemble_document': 'true', 'xmpTPg:NPages': '20', 'pdf:hasXMP': 'true', 'pdf:charsPerPage': ['45', '2102', '2079', '2175', '2175', '3165', '2864', '2672', '2653', '2554', '3108', '2919', '2092', '2088', '2024', '2501', '2279', '2329', '3507', '2934'], 'access_permission:extract_content': 'true', 'access_permission:can_print': 'true', 'pdf:docinfo:trapped': 'False', 'X-TIKA:parse_time_millis': '93', 'xmpMM:DerivedFrom:InstanceID': 'xmp.iid:214ed637-a659-4765-a185-43a96397c8cf', 'access_permission:can_modify': 'true', 'pdf:docinfo:created': '2023-12-20T08:18:57Z'}, 'content': '\\n\\n\\n\\n\\n\\n\\n\\n\\n\\n\\n\\n\\n\\n\\n\\n\\n\\n\\n\\n\\n\\n\\n\\n\\n\\n\\n\\n\\n\\n\\n\\n\\n\\n\\n\\n\\n\\n\\n\\n\\n\\n\\nÖsterreich-Edition.\\nGültig ab 01. Januar 2024 \\n\\n\\n\\nSerienausstattung\\n\\nBaumuster\\xad\\nnummer\\n\\nLeistung kW  \\n(PS) \\nDrehmoment² Nm\\n\\nMotor/Zylinder\\nHubraum (cm³)\\n\\nKraftstoffverbrauch \\nkombiniert1 (l/100 km) \\nCO2\\xadEmissionen \\nkombiniert1 (g/km)\\n\\nGetriebe NoVA\\xadSatz\\nPreis Euro\\ninkl. MwSt. und NoVA\\n\\nexkl. MwSt. und NoVA\\n\\nA 180 \\nÖsterreich-Edition\\n\\n177.084 AT1 100 + 10  \\n\\n(136 + 14)\\n\\n230\\n\\nBenziner/R4\\n\\n1.332\\n\\n6,5 \\xad 5,9\\n\\n148 \\xad 134\\n\\n7G\\xadDCT 7% 34.990,—\\n27.826,77\\n\\nA 180 d \\nÖsterreich-Edition\\n\\n177.010 AT1 85  \\n\\n(116) \\n\\n280\\n\\nDiesel/R4 \\n\\n1.950\\n\\n5,5 \\xad 5,0\\n\\n145 \\xad 132\\n\\n8G\\xadDCT 7% 36.990,—\\n29.401,57\\n\\nA-Klasse – Kompaktlimousine.\\n\\n* Informationen zum offiziellen Kraftstoffverbrauch und den offiziellen CO2\\xadEmissionen neuer Personenkraftwagen finden Sie auch am Dokumentende.\\n\\nSämtliche Preise in dieser Preisliste sind nicht kartellgebunden und stellen unverbindliche Preisempfehlungen dar. Sie verstehen sich freibleibend jeweils für das serienmäßige Fahrzeug ab österreichischer Vertretung. Die Kaufpreise für Sonderausstattungen gelten nur für den Einbau im Herstellerwerk. Änderung in \\nKonstruktion und Ausstattung sowie Satz\\xad und Druckfehler vorbehalten.\\n\\nDie Fahrzeug\\xadListenpreise inkl. NoVA und 20 % MwSt. berücksichtigen die Bestimmungen des Normverbrauchsabgabegesetzes in der jeweils gültigen Fassung. Die Sonderausstattungspreise sind Listenpreise exkl. NoVA und 20 % MwSt. Zur Errechnung der Bruttopreise sind der modellabhängige Faktor für die NoVA \\nsowie 20\\u2009% MwSt. hinzuzurechnen. Dieser Faktor ist abhängig von Getriebeart, Reifendimension und dem entsprechenden Rollwiderstand des Reifens.\\n\\nAufgrund von Lieferengpässen bei diversen Fahrzeugteilen (vor allem Halbleitern) kommt es eventuell zu einer zeitweise eingeschränkten Verfügbarkeit. Aktuelle Informationen hierzu finden Sie auf unserer Homepage und bei Ihrem Mercedes\\xadBenz Partner.\\n\\n1  Die angegebenen Werte sind die ermittelten WLTP\\xadCO2\\xadWerte i.S.v. Art. 2 Nr. 3 Durchführungsverordnung (EU) 2017/1153. Die Kraftstoffverbrauchswerte wurden auf Basis dieser Werte errechnet. Stromverbrauch und Reichweite wurden auf Grundlage  \\nder VO 2017/1151/EU ermittelt.\\n\\n2  Angaben zur Nennleistung und zum Nenndrehmoment nach Verordnung (EG) Nr. 595/2009 in der gegenwärtig geltenden Fassung.\\n\\n\\n\\nSerienausstattung\\n\\nBaumuster\\xad\\nnummer\\n\\nLeistung kW \\n(PS) \\nDrehmoment2 Nm\\n\\nMotor/Zylinder\\nHubraum (cm³)\\n\\nKraftstoffverbrauch \\nkombiniert1 (l/100 km) \\nCO2\\xadEmissionen \\nkombiniert1 (g/km)  \\n\\nGetriebe NoVA\\xadSatz\\nPreis Euro\\ninkl. MwSt. und NoVA\\n\\nexkl. MwSt. und NoVA\\n\\nB 180 \\nÖsterreich-Edition\\n\\n247.084 AT1 100 + 10\\n\\n(136 + 14)\\n\\n230\\n\\nBenziner/R4\\n\\n1.332\\n\\n6,8 \\xad 6,1\\n\\n154 \\xad 138\\n\\n7G\\xadDCT 8% 35.990,—\\n28.390,63\\n\\nB 180 d \\nÖsterreich-Edition\\n\\n247.010 AT1 85 \\n\\n(116)\\n\\n280\\n\\nDiesel/R4\\n\\n1.950\\n\\n5,7 \\xad 5,2\\n\\n150 \\xad 136\\n\\n8G\\xadDCT 8% 38.490,—\\n30.343,75\\n\\nB-Klasse.\\n\\n* Informationen zum offiziellen Kraftstoffverbrauch und den offiziellen CO2\\xadEmissionen neuer Personenkraftwagen finden Sie auch am Dokumentende.\\n\\nSämtliche Preise in dieser Preisliste sind nicht kartellgebunden und stellen unverbindliche Preisempfehlungen dar. Sie verstehen sich freibleibend jeweils für das serienmäßige Fahrzeug ab österreichischer Vertretung. Die Kaufpreise für Sonderausstattungen gelten nur für den Einbau im Herstellerwerk. Änderung in \\nKonstruktion und Ausstattung sowie Satz\\xad und Druckfehler vorbehalten.\\n\\nDie Fahrzeug\\xadListenpreise inkl. NoVA und 20 % MwSt. berücksichtigen die Bestimmungen des Normverbrauchsabgabegesetzes in der jeweils gültigen Fassung. Die Sonderausstattungspreise sind Listenpreise exkl. NoVA und 20 % MwSt. Zur Errechnung der Bruttopreise sind der modellabhängige Faktor für die NoVA \\nsowie 20\\u2009% MwSt. hinzuzurechnen. Dieser Faktor ist abhängig von Getriebeart, Reifendimension und dem entsprechenden Rollwiderstand des Reifens.\\n\\nAufgrund von Lieferengpässen bei diversen Fahrzeugteilen (vor allem Halbleitern) kommt es eventuell zu einer zeitweise eingeschränkten Verfügbarkeit. Aktuelle Informationen hierzu finden Sie auf unserer Homepage und bei Ihrem Mercedes\\xadBenz Partner.\\n\\n1  Die angegebenen Werte sind die ermittelten WLTP\\xadCO2\\xadWerte i.S.v. Art. 2 Nr. 3 Durchführungsverordnung (EU) 2017/1153. Die Kraftstoffverbrauchswerte wurden auf Basis dieser Werte errechnet. Stromverbrauch und Reichweite wurden auf Grundlage  \\nder VO 2017/1151/EU ermittelt.\\n\\n2  Angaben zur Nennleistung und zum Nenndrehmoment nach Verordnung (EG) Nr. 595/2009 in der gegenwärtig geltenden Fassung.\\n\\n\\n\\nC-Klasse Limousine.\\nSerien \\xad\\nausstattung\\n\\nBaumuster\\xad\\nnummer\\n\\nMotor\\nHubraum (cm3)\\nZylinder\\n\\nLeistung1\\n\\nkW (PS) \\nDrehmoment1 (Nm)\\n\\nGetriebe Höchstgeschwindigkeit\\n(km/h)\\nBeschleunigung\\n0\\xad100 km/h (s)\\n\\nVerbrauch EU\\nkombiniert2 (l/100 km)\\nCO2\\xadEmissionen\\nkombiniert2 (g/km)\\n\\nNoVA\\xadSatz\\n\\nPreis Euro\\ninkl. MwSt. und NoVA \\n\\nexkl. MwSt. und NoVA\\n\\nC 200 d \\nÖsterreich-Edition\\n\\n206.003 AT1 Diesel \\n\\n1.993\\n\\nR4\\n\\n120 + 17  \\n\\n(163 + 23) \\n\\n380\\n\\n9G\\xadTRONIC 230\\n\\n7,7\\n\\n5,2 – 4,6\\n\\n137 \\xad 120\\n\\n5% 50.890,—\\n40.992,—\\n\\nC 220 d 4MATIC \\nÖsterreich-Edition\\n\\n206.005 AT1 Diesel\\n\\n1.993\\n\\nR4\\n\\n145 + 17  \\n\\n(197 + 23) \\n\\n440\\n\\n9G\\xadTRONIC 239\\n\\n7,4\\n\\n5,5 \\xad 4,8\\n\\n143 \\xad 126\\n\\n6% 55.990,—\\n44.714,29\\n\\n* Informationen zum offiziellen Kraftstoffverbrauch und den offiziellen CO2\\xadEmissionen neuer Personenkraftwagen finden Sie auch am Dokumentende.\\n\\nSämtliche Preise in dieser Preisliste sind nicht kartellgebunden und stellen unverbindliche Preisempfehlungen dar. Sie verstehen sich freibleibend jeweils für das serienmäßige Fahrzeug ab österreichischer Vertretung. Die Kaufpreise für Sonderausstattungen gelten nur für den Einbau im Herstellerwerk. Änderung in \\nKonstruktion und Ausstattung sowie Satz\\xad und Druckfehler vorbehalten.\\n\\nDie Fahrzeug\\xadListenpreise inkl. NoVA und 20 % MwSt. berücksichtigen die Bestimmungen des Normverbrauchsabgabegesetzes in der jeweils gültigen Fassung. Die Sonderausstattungspreise sind Listenpreise exkl. NoVA und 20 % MwSt. Zur Errechnung der Bruttopreise sind der modellabhängige Faktor für die NoVA \\nsowie 20\\u2009% MwSt. hinzuzurechnen. Dieser Faktor ist abhängig von Getriebeart, Reifendimension und dem entsprechenden Rollwiderstand des Reifens.\\n\\nAufgrund von Lieferengpässen bei diversen Fahrzeugteilen (vor allem Halbleitern) kommt es eventuell zu einer zeitweise eingeschränkten Verfügbarkeit. Aktuelle Informationen hierzu finden Sie auf unserer Homepage und bei Ihrem Mercedes\\xadBenz Partner.\\n\\n1  Die angegebenen Werte sind die ermittelten WLTP\\xadCO2\\xadWerte i.S.v. Art. 2 Nr. 3 Durchführungsverordnung (EU) 2017/1153. Die Kraftstoffverbrauchswerte wurden auf Basis dieser Werte errechnet. Stromverbrauch und Reichweite wurden auf Grundlage  \\nder VO 2017/1151/EU ermittelt.\\n\\n2  Angaben zur Nennleistung und zum Nenndrehmoment nach Verordnung (EG) Nr. 595/2009 in der gegenwärtig geltenden Fassung.\\n\\n\\n\\nC-Klasse T-Modell.\\nSerien \\xad\\nausstattung\\n\\nBaumuster\\xad\\nnummer\\n\\nMotor\\nHubraum (cm3)\\nZylinder\\n\\nLeistung1\\n\\nkW (PS) \\nDrehmoment1 (Nm)\\n\\nGetriebe Höchstgeschwindigkeit\\n(km/h)\\nBeschleunigung\\n0\\xad100 km/h (s)\\n\\nVerbrauch EU\\nkombiniert2 (l/100 km)\\nCO2\\xadEmissionen\\nkombiniert2 (g/km)\\n\\nNoVA\\xadSatz\\n\\nPreis Euro\\ninkl. MwSt. und NoVA \\n\\nexkl. MwSt. und NoVA\\n\\nC 200 d \\nÖsterreich-Edition\\n\\n206.203 AT1 Diesel \\n\\n1.993\\n\\nR4\\n\\n120 + 17  \\n\\n(163 + 23) \\n\\n380\\n\\n9G\\xadTRONIC 226\\n\\n7,8\\n\\n5,4 – 4,7\\n\\n141 \\xad 124\\n\\n5% 51.090,—\\n41.152,—\\n\\nC 220 d 4MATIC \\nÖsterreich-Edition\\n\\n206.205 AT1 Diesel \\n\\n1.993\\n\\nR4\\n\\n145 + 17  \\n\\n(197 + 23) \\n\\n440\\n\\n9G\\xadTRONIC 237\\n\\n7,5\\n\\n5,6 \\xad 5,0\\n\\n147 \\xad 130\\n\\n7% 55.990,—\\n44.362,20\\n\\n* Informationen zum offiziellen Kraftstoffverbrauch und den offiziellen CO2\\xadEmissionen neuer Personenkraftwagen finden Sie auch am Dokumentende.\\n\\nSämtliche Preise in dieser Preisliste sind nicht kartellgebunden und stellen unverbindliche Preisempfehlungen dar. Sie verstehen sich freibleibend jeweils für das serienmäßige Fahrzeug ab österreichischer Vertretung. Die Kaufpreise für Sonderausstattungen gelten nur für den Einbau im Herstellerwerk. Änderung in \\nKonstruktion und Ausstattung sowie Satz\\xad und Druckfehler vorbehalten.\\n\\nDie Fahrzeug\\xadListenpreise inkl. NoVA und 20 % MwSt. berücksichtigen die Bestimmungen des Normverbrauchsabgabegesetzes in der jeweils gültigen Fassung. Die Sonderausstattungspreise sind Listenpreise exkl. NoVA und 20 % MwSt. Zur Errechnung der Bruttopreise sind der modellabhängige Faktor für die NoVA \\nsowie 20\\u2009% MwSt. hinzuzurechnen. Dieser Faktor ist abhängig von Getriebeart, Reifendimension und dem entsprechenden Rollwiderstand des Reifens.\\n\\nAufgrund von Lieferengpässen bei diversen Fahrzeugteilen (vor allem Halbleitern) kommt es eventuell zu einer zeitweise eingeschränkten Verfügbarkeit. Aktuelle Informationen hierzu finden Sie auf unserer Homepage und bei Ihrem Mercedes\\xadBenz Partner.\\n\\n1  Die angegebenen Werte sind die ermittelten WLTP\\xadCO2\\xadWerte i.S.v. Art. 2 Nr. 3 Durchführungsverordnung (EU) 2017/1153. Die Kraftstoffverbrauchswerte wurden auf Basis dieser Werte errechnet. Stromverbrauch und Reichweite wurden auf Grundlage  \\nder VO 2017/1151/EU ermittelt.\\n\\n2  Angaben zur Nennleistung und zum Nenndrehmoment nach Verordnung (EG) Nr. 595/2009 in der gegenwärtig geltenden Fassung.\\n\\n\\n\\nSerienausstattung\\n\\nBaumuster\\xad\\nnummer\\n\\nLeistung kW  \\n(PS) \\nDrehmoment² Nm\\n\\nMotor/Zylinder\\nHubraum (cm³)\\n\\nKraftstoffverbrauch \\nkombiniert1 (l/100 km) \\nCO2\\xadEmissionen \\nkombiniert1 (g/km)\\n\\nGetriebe NoVA\\xadSatz\\nPreis Euro\\ninkl. MwSt. und NoVA\\n\\nexkl. MwSt. und NoVA\\n\\nCLA 180 d \\nÖsterreich-Edition\\n\\n118.610 AT1 85   \\n\\n116\\n\\n280\\n\\nDiesel/R4\\n\\n1.950\\n\\n5,7 \\xad 5,2\\n\\n149 \\xad 135\\n\\n8G\\xadDCT 8% 40.490,—\\n31.906,25\\n\\nCLA 200 d \\nÖsterreich-Edition \\n\\n118.612 AT1 110  \\n\\n150\\n\\n320\\n\\nDiesel/R4 \\n\\n1.950\\n\\n5,6 \\xad 5,0\\n\\n147 \\xad 132\\n\\n8G\\xadDCT 7% 43.990,—\\n34.913,39\\n\\nCLA – Shooting Brake.\\n\\nBaumuster\\xad\\nnummer\\n\\nMotor/Zylinder\\nHubraum (cm³)\\n\\nGetriebe Nennleistung1 \\nkW (PS) \\nDrehmoment1 Nm\\n\\nVerbrennungs\\xad \\nmotor\\n\\nNennleistung \\nkW (PS) \\nDrehmoment  \\nNm\\n\\nE\\xadMotor\\n\\nSystemleistung\\nkW (PS) \\nDrehmoment \\nNm\\n\\nHöchstgeschwindigkeit \\n(km/h)\\nBeschleunigung\\n0\\xad100 km/h (s)\\nÄquiv. Rein elektrische \\nReichweite komb.2 (km)\\n\\nVerbrauch \\ngewichtet kombiniert2\\n\\n(l/100 km)\\nStromverbrauch  \\ngewichtet kombiniert2\\n\\n(kWh/100 km)\\n\\nCO2\\xadEmissionen  \\ngewichtet  \\nkombiniert2\\n\\n(g/km)\\nEmissionsklasse\\n\\nNoVA\\xadSatz\\nSerienausstattung\\n\\nPreis Euro\\ninkl. MwSt. und NoVA\\n\\nexkl. MwSt. und NoVA\\n\\nCLA 250 e \\nÖsterreich-Edition\\n\\n118.685 AT1 118.685 AT1 8G\\xadDCT 120 (163)\\n\\n270\\n\\n80 (109)\\n\\n270\\n\\n160 (218)\\n\\n450\\n\\n226\\n\\n7,7\\n\\n67,0 \\xad 75,0\\n\\n1,2 \\xad 0,9\\n\\n19,0 \\xad 17,1\\n\\n27,0 \\xad 20,0\\n\\nEuro 6d\\xadISC\\xad\\n\\nFCM\\n\\n0% 44.390,—\\n36.991,67\\n\\n* Informationen zum offiziellen Kraftstoffverbrauch und den offiziellen CO2\\xadEmissionen neuer Personenkraftwagen finden Sie auch am Dokumentende.\\n\\nSämtliche Preise in dieser Preisliste sind nicht kartellgebunden und stellen unverbindliche Preisempfehlungen dar. Sie verstehen sich freibleibend jeweils für das serienmäßige Fahrzeug ab österreichischer Vertretung. Die Kaufpreise für Sonderausstattungen gelten nur für den Einbau im Herstellerwerk. Änderung in \\nKonstruktion und Ausstattung sowie Satz\\xad und Druckfehler vorbehalten.\\n\\nDie Fahrzeug\\xadListenpreise inkl. NoVA und 20 % MwSt. berücksichtigen die Bestimmungen des Normverbrauchsabgabegesetzes in der jeweils gültigen Fassung. Die Sonderausstattungspreise sind Listenpreise exkl. NoVA und 20 % MwSt. Zur Errechnung der Bruttopreise sind der modellabhängige Faktor für die NoVA \\nsowie 20\\u2009% MwSt. hinzuzurechnen. Dieser Faktor ist abhängig von Getriebeart, Reifendimension und dem entsprechenden Rollwiderstand des Reifens.\\n\\nAufgrund von Lieferengpässen bei diversen Fahrzeugteilen (vor allem Halbleitern) kommt es eventuell zu einer zeitweise eingeschränkten Verfügbarkeit. Aktuelle Informationen hierzu finden Sie auf unserer Homepage und bei Ihrem Mercedes\\xadBenz Partner.\\n\\n1  Die angegebenen Werte sind die ermittelten WLTP\\xadCO2\\xadWerte i.S.v. Art. 2 Nr. 3 Durchführungsverordnung (EU) 2017/1153. Die Kraftstoffverbrauchswerte wurden auf Basis dieser Werte errechnet. Stromverbrauch und Reichweite wurden auf Grundlage  \\nder VO 2017/1151/EU ermittelt.\\n\\n2  Angaben zur Nennleistung und zum Nenndrehmoment nach Verordnung (EG) Nr. 595/2009 in der gegenwärtig geltenden Fassung.\\n\\n1  Die angegebenen Werte sind die ermittelten WLTP\\xadCO2\\xadWerte i.S.v. Art. 2 Nr. 3 Durchführungsverordnung (EU) 2017/1153. Die Kraftstoffverbrauchswerte wurden auf Basis dieser Werte errechnet. Stromverbrauch und Reichweite wurden auf Grundlage  \\nder VO 2017/1151/EU ermittelt.\\n\\n2  Angaben zur Nennleistung und zum Nenndrehmoment nach Verordnung (EG) Nr. 595/2009 in der gegenwärtig geltenden Fassung.\\n\\n\\n\\nE-Klasse Limousine.\\nSerien \\xad\\nausstattung\\n\\nBaumuster\\xad\\nnummer\\n\\nMotor\\nHubraum cm3\\n\\nZylinder\\n\\nGetriebe Nennleistung1  \\nkW (PS) \\nDrehmoment Nm\\nVerbrennungs\\xad \\nmotor\\n\\nNennleistung1 \\nkW (PS) \\nDrehmoment  \\nNm\\nE\\xadMotor\\n\\nSystemleistung\\nkW (PS) \\nDrehmoment \\nNm\\n\\nHöchstgeschwindigkeit \\nkm/h\\nBeschleunigung\\n0\\xad100 km/h (s)\\nelektr. Reichweite\\nmin. \\xad max. km\\n\\nKraftstoffverbrauch \\ngewichtet kombiniert2\\n\\nl/100 km\\nStromverbrauch  \\ngewichtet kombiniert2\\n\\nkWh/100 km\\n\\nCO2\\xadEmissionen  \\ngewichtet  \\nkombiniert2 g/km\\nEmissionsklasse\\n\\nNoVA\\xadSatz\\n\\nPreis Euro\\ninkl. MwSt. und NoVA\\n\\nexkl. MwSt. und NoVA\\n\\nE 300 e  \\nÖsterreich-Edition\\n\\n214.054 AT1 Benziner\\n\\n1.999\\n\\nR4\\n\\n9G-TRONIC 150 (204)\\n\\n320\\n\\n95 (129)\\n\\n440\\n\\n230 (313)\\n\\n550\\n\\n236\\n\\n6,4\\n\\n97,0 \\xad 115,0\\n\\n0,8 \\xad 0,5\\n\\n20,7 \\xad 18,4\\n\\n18,0 \\xad 12,0\\n\\nEuro 6d\\xadISC\\xad\\n\\nFCM\\n\\n0% 65.506,—\\n54.588,33\\n\\nE 300 e 4MATIC \\nÖsterreich-Edition\\n\\n214.056 AT1 Benziner\\n\\n1.999\\n\\nR4\\n\\n9G-TRONIC 150 (204)\\n\\n320\\n\\n95 (129)\\n\\n440\\n\\n230 (313)\\n\\n550\\n\\n234\\n\\n6,5\\n\\n95,0 \\xad 109,0\\n\\n0,9 \\xad 0,5\\n\\n215,0 \\xad 192,0\\n\\n20,0 \\xad 14,0\\n\\nEuro 6d\\xadISC\\xad\\n\\nFCM\\n\\n0% 70.062,50\\n58.385,42\\n\\nE 300 de \\nÖsterreich-Edition\\n\\n214.008 AT1 Diesel\\n\\n1.993\\n\\nR4\\n\\n9G-TRONIC 145 (197)\\n\\n440\\n\\n95 (129)\\n\\n440\\n\\n230 (313)\\n\\n700\\n\\n235\\n\\n6,4\\n\\n96,0 \\xad 109,0\\n\\n0,6 \\xad 0,5\\n\\n22,4 \\xad 19,8\\n\\n16,0 \\xad 12,0\\n\\nEuro 6d\\xadISC\\xad\\n\\nFCM\\n\\n0% 66.525,—\\n55.437,50\\n\\nE 300 de 4MATIC \\nÖsterreich-Edition\\n\\n214.009 AT1 Diesel\\n\\n1.993\\n\\nR4\\n\\n9G-TRONIC 145 (197)\\n\\n440\\n\\n95 (129)\\n\\n440\\n\\n230 (313)\\n\\n700\\n\\n233\\n\\n6,6\\n\\n88,0 \\xad 107,0\\n\\n0,8 \\xad 0,5\\n\\n24,1 \\xad 21,5\\n\\n20,0 \\xad 14,0\\n\\nEuro 6d\\xadISC\\xad\\n\\nFCM\\n\\n0% 69.958,—\\n58.298,33\\n\\n* Informationen zum offiziellen Kraftstoffverbrauch und den offiziellen CO2\\xadEmissionen neuer Personenkraftwagen finden Sie auch am Dokumentende.\\n\\nSämtliche Preise in dieser Preisliste sind nicht kartellgebunden und stellen unverbindliche Preisempfehlungen dar. Sie verstehen sich freibleibend jeweils für das serienmäßige Fahrzeug ab österreichischer Vertretung. Die Kaufpreise für Sonderausstattungen gelten nur für den Einbau im Herstellerwerk. Änderung in \\nKonstruktion und Ausstattung sowie Satz\\xad und Druckfehler vorbehalten.\\n\\nDie Fahrzeug\\xadListenpreise inkl. NoVA und 20 % MwSt. berücksichtigen die Bestimmungen des Normverbrauchsabgabegesetzes in der jeweils gültigen Fassung. Die Sonderausstattungspreise sind Listenpreise exkl. NoVA und 20 % MwSt. Zur Errechnung der Bruttopreise sind der modellabhängige Faktor für die NoVA \\nsowie 20\\u2009% MwSt. hinzuzurechnen. Dieser Faktor ist abhängig von Getriebeart, Reifendimension und dem entsprechenden Rollwiderstand des Reifens.\\n\\nAufgrund von Lieferengpässen bei diversen Fahrzeugteilen (vor allem Halbleitern) kommt es eventuell zu einer zeitweise eingeschränkten Verfügbarkeit. Aktuelle Informationen hierzu finden Sie auf unserer Homepage und bei Ihrem Mercedes\\xadBenz Partner.\\n\\n1  Die angegebenen Werte sind die ermittelten WLTP\\xadCO2\\xadWerte i.S.v. Art. 2 Nr. 3 Durchführungsverordnung (EU) 2017/1153. Die Kraftstoffverbrauchswerte wurden auf Basis dieser Werte errechnet. Stromverbrauch und Reichweite wurden auf Grundlage  \\nder VO 2017/1151/EU ermittelt.\\n\\n2  Angaben zur Nennleistung und zum Nenndrehmoment nach Verordnung (EG) Nr. 595/2009 in der gegenwärtig geltenden Fassung.\\n\\n\\n\\nE-Klasse T-Modell.\\nSerien \\xad\\nausstattung\\n\\nBaumuster\\xad\\nnummer\\n\\nMotor\\nHubraum cm3\\n\\nZylinder\\n\\nGetriebe Nennleistung1  \\nkW (PS) \\nDrehmoment Nm\\nVerbrennungs\\xad \\nmotor\\n\\nNennleistung1 \\nkW (PS) \\nDrehmoment  \\nNm\\nE\\xadMotor\\n\\nSystemleistung\\nkW (PS) \\nDrehmoment \\nNm\\n\\nHöchstgeschwindigkeit \\nkm/h\\nBeschleunigung\\n0\\xad100 km/h (s)\\nelektr. Reichweite\\nmin. \\xad max. km\\n\\nKraftstoffverbrauch \\ngewichtet kombiniert2\\n\\nl/100 km\\nStromverbrauch  \\ngewichtet kombiniert2\\n\\nkWh/100 km\\n\\nCO2\\xadEmissionen  \\ngewichtet  \\nkombiniert2 g/km\\nEmissionsklasse\\n\\nNoVA\\xadSatz\\n\\nPreis Euro\\ninkl. MwSt. und NoVA\\n\\nexkl. MwSt. und NoVA\\n\\nE 300 e  \\nÖsterreich-Edition\\n\\n214.254 AT1 Hybrid\\n\\n1.999\\n\\nR4\\n\\n9G-TRONIC 150 (204)\\n\\n320\\n\\n95 (129)\\n\\n440\\n\\n230 (313)\\n\\n550\\n\\n227\\n\\n6,5\\n\\n96,0 \\xad 113,0\\n\\n0,9 \\xad 0,6\\n\\n21,3 \\xad 19,1\\n\\n19,0 \\xad 13,0\\n\\nEuro 6d\\xadISC\\xad\\n\\nFCM\\n\\n0% 69.265,—\\n57.720,83\\n\\nE 300 de  \\nÖsterreich-Edition\\n\\n214.208 AT1 Hybrid\\n\\n1.993\\n\\nR4\\n\\n9G-TRONIC 145 (197)\\n\\n440\\n\\n95 (129)\\n\\n440\\n\\n230 (313)\\n\\n700\\n\\n225\\n\\n6,6\\n\\n91,0 \\xad 102,0\\n\\n0,7 \\xad 0,5\\n\\n23,1 \\xad 20,7\\n\\n18,0 \\xad 13,0\\n\\nEuro 6d\\xadISC\\xad\\n\\nFCM\\n\\n0% 69.706,—\\n58.088,33\\n\\nE 300 de 4MATIC \\nÖsterreich-Edition\\n\\n214.209 AT1 Hybrid\\n\\n1.993\\n\\nR4\\n\\n9G-TRONIC 145 (197)\\n\\n440\\n\\n95 (129)\\n\\n440\\n\\n230 (313)\\n\\n700\\n\\n223\\n\\n6,7\\n\\n82,0 \\xad 99,0\\n\\n0,8 \\xad 0,6\\n\\n24,9 \\xad 22,4\\n\\n22,0 \\xad 16,0\\n\\nEuro 6d\\xadISC\\xad\\n\\nFCM\\n\\n0% 73.183,—\\n60.985,83\\n\\n* Informationen zum offiziellen Kraftstoffverbrauch und den offiziellen CO2\\xadEmissionen neuer Personenkraftwagen finden Sie auch am Dokumentende.\\n\\nSämtliche Preise in dieser Preisliste sind nicht kartellgebunden und stellen unverbindliche Preisempfehlungen dar. Sie verstehen sich freibleibend jeweils für das serienmäßige Fahrzeug ab österreichischer Vertretung. Die Kaufpreise für Sonderausstattungen gelten nur für den Einbau im Herstellerwerk. Änderung in \\nKonstruktion und Ausstattung sowie Satz\\xad und Druckfehler vorbehalten.\\n\\nDie Fahrzeug\\xadListenpreise inkl. NoVA und 20 % MwSt. berücksichtigen die Bestimmungen des Normverbrauchsabgabegesetzes in der jeweils gültigen Fassung. Die Sonderausstattungspreise sind Listenpreise exkl. NoVA und 20 % MwSt. Zur Errechnung der Bruttopreise sind der modellabhängige Faktor für die NoVA \\nsowie 20\\u2009% MwSt. hinzuzurechnen. Dieser Faktor ist abhängig von Getriebeart, Reifendimension und dem entsprechenden Rollwiderstand des Reifens.\\n\\nAufgrund von Lieferengpässen bei diversen Fahrzeugteilen (vor allem Halbleitern) kommt es eventuell zu einer zeitweise eingeschränkten Verfügbarkeit. Aktuelle Informationen hierzu finden Sie auf unserer Homepage und bei Ihrem Mercedes\\xadBenz Partner.\\n\\n1  Die angegebenen Werte sind die ermittelten WLTP\\xadCO2\\xadWerte i.S.v. Art. 2 Nr. 3 Durchführungsverordnung (EU) 2017/1153. Die Kraftstoffverbrauchswerte wurden auf Basis dieser Werte errechnet. Stromverbrauch und Reichweite wurden auf Grundlage  \\nder VO 2017/1151/EU ermittelt.\\n\\n2  Angaben zur Nennleistung und zum Nenndrehmoment nach Verordnung (EG) Nr. 595/2009 in der gegenwärtig geltenden Fassung.\\n\\n\\n\\n* Informationen zum offiziellen Kraftstoffverbrauch und den offiziellen CO2\\xadEmissionen neuer Personenkraftwagen finden Sie auch am Dokumentende.\\n\\nSämtliche Preise in dieser Preisliste sind nicht kartellgebunden und stellen unverbindliche Preisempfehlungen dar. Sie verstehen sich freibleibend jeweils für das serienmäßige Fahrzeug ab österreichischer Vertretung. Die Kaufpreise für Sonderausstattungen gelten nur für den Einbau im Herstellerwerk. Änderung in \\nKonstruktion und Ausstattung sowie Satz\\xad und Druckfehler vorbehalten.\\n\\nDie Fahrzeug\\xadListenpreise inkl. NoVA und 20 % MwSt. berücksichtigen die Bestimmungen des Normverbrauchsabgabegesetzes in der jeweils gültigen Fassung. Die Sonderausstattungspreise sind Listenpreise exkl. NoVA und 20 % MwSt. Zur Errechnung der Bruttopreise sind der modellabhängige Faktor für die NoVA \\nsowie 20\\u2009% MwSt. hinzuzurechnen. Dieser Faktor ist abhängig von Getriebeart, Reifendimension und dem entsprechenden Rollwiderstand des Reifens.\\n\\nAufgrund von Lieferengpässen bei diversen Fahrzeugteilen (vor allem Halbleitern) kommt es eventuell zu einer zeitweise eingeschränkten Verfügbarkeit. Aktuelle Informationen hierzu finden Sie auf unserer Homepage und bei Ihrem Mercedes\\xadBenz Partner.\\n\\nEQA.\\n\\n1 Inkl. Batteriezertifikat für die Dauer von 10 Jahren oder bis zu einer Laufleistung von 250.000 km (je nachdem was zuerst eintritt). Die genauen Bedingungen können Sie dem Serviceheft entnehmen, das dem Fahrzeug beiliegt.\\n2 Die angegebenen Werte sind die ermittelten „WLTP\\xadCO2\\xadWerte\" i.S.v. Art. 2 Nr. 3 Durchführungsverordnung (EU) 2017/1153. Die Kraftstoffverbrauchswerte wurden auf Basis dieser Werte errechnet. Stromverbrauch und Reichweite wurden auf Grundlage der VO 2017/1151/EU ermittelt. \\n3 Die angegebenen Werte wurden nach dem vorgeschriebenen Messverfahren ermittelt. Es handelt sich um die „NEFZ\\xadCO2\\xadWerte\" i.S.v. Art. 2 Nr. 1 Durchführungsverordnung (EU) 2017/1153. Die Kraftstoffverbrauchswerte wurden auf Basis dieser Werte errechnet. Der Stromverbrauch wurde \\n\\nauf der Grundlage der VO 692/2008/EG ermittelt.\\n\\nSerien ausstattung\\n\\nBaumuster\\xad\\nnummer\\n\\nMotor Batterie1\\n\\nnutzbare  \\n\\nKapazität (kWh)\\n\\nNennleistung \\nkW (PS)\\n\\nDrehmoment\\n(Nm)\\n\\nElektrische Reichweite \\nmax.\\u2009–\\u2009min. (WLTP)2\\n\\n(km)\\n\\nStromverbrauch kombiniert \\nmax.\\u2009–\\u2009min. (WLTP)2\\n\\n(kWh/100km)\\n\\nCO2\\xadEmissionen \\nkombiniert3\\n\\n(g/km)\\n\\nNoVA\\xadSatz Preis Euro\\ninkl. MwSt. und NoVA \\n\\nexkl. MwSt. und NoVA\\n\\nEQA 250 \\nÖsterreich-Edition\\n\\n243.701 AT1 Elektro 66,5 140 (190) 385 525\\u2009–\\u2009457 16,7\\u2009–\\u200914,5 0 0% 49.990,—\\n41.658,33\\n\\nEQA 250+ \\nÖsterreich-Edition\\n\\n243.702 AT1 Elektro 70,5 140 (190) 385 559\\u2009–\\u2009497 16,4\\u2009–\\u200914,4 0 0% 52.990,—\\n44.158,33\\n\\nEQA 300 4MATIC \\nÖsterreich-Edition\\n\\n243.708 AT1 Elektro 66,5 168 (228) 390 457\\u2009–\\u2009412 18,6\\u2009–\\u200916,8 0 0% 54.990,—\\n45.825,—\\n\\n\\n\\n* Informationen zum offiziellen Kraftstoffverbrauch und den offiziellen CO2\\xadEmissionen neuer Personenkraftwagen finden Sie auch am Dokumentende.\\n\\nSämtliche Preise in dieser Preisliste sind nicht kartellgebunden und stellen unverbindliche Preisempfehlungen dar. Sie verstehen sich freibleibend jeweils für das serienmäßige Fahrzeug ab österreichischer Vertretung. Die Kaufpreise für Sonderausstattungen gelten nur für den Einbau im Herstellerwerk. Änderung in \\nKonstruktion und Ausstattung sowie Satz\\xad und Druckfehler vorbehalten.\\n\\nDie Fahrzeug\\xadListenpreise inkl. NoVA und 20 % MwSt. berücksichtigen die Bestimmungen des Normverbrauchsabgabegesetzes in der jeweils gültigen Fassung. Die Sonderausstattungspreise sind Listenpreise exkl. NoVA und 20 % MwSt. Zur Errechnung der Bruttopreise sind der modellabhängige Faktor für die NoVA \\nsowie 20\\u2009% MwSt. hinzuzurechnen. Dieser Faktor ist abhängig von Getriebeart, Reifendimension und dem entsprechenden Rollwiderstand des Reifens.\\n\\nAufgrund von Lieferengpässen bei diversen Fahrzeugteilen (vor allem Halbleitern) kommt es eventuell zu einer zeitweise eingeschränkten Verfügbarkeit. Aktuelle Informationen hierzu finden Sie auf unserer Homepage und bei Ihrem Mercedes\\xadBenz Partner.\\n\\nEQB.\\n\\n1 Inkl. Batteriezertifikat für die Dauer von 10 Jahren oder bis zu einer Laufleistung von 250.000 km (je nachdem was zuerst eintritt). Die genauen Bedingungen können Sie dem Serviceheft entnehmen, das dem Fahrzeug beiliegt.\\n2 Die angegebenen Werte sind die ermittelten „WLTP\\xadCO2\\xadWerte“ i.S.v. Art. 2 Nr. 3 Durchführungsverordnung (EU) 2017/1153. Die Kraftstoffverbrauchswerte wurden auf Basis dieser Werte errechnet. Stromverbrauch und Reichweite wurden auf Grundlage der VO 2017/1151/EU ermittelt. \\n3 Die angegebenen Werte wurden nach dem vorgeschriebenen Messverfahren ermittelt. Es handelt sich um die „NEFZ\\xadCO2\\xadWerte“ i.S.v. Art. 2 Nr. 1 Durchführungsverordnung (EU) 2017/1153. Die Kraftstoffverbrauchswerte wurden auf Basis dieser Werte errechnet. Der Stromverbrauch wurde \\n\\nauf der Grundlage der VO 692/2008/EG ermittelt.\\n\\nSerien ausstattung\\n\\nBaumuster\\xad\\nnummer\\n\\nMotor Batterie1\\n\\nnutzbare  \\n\\nKapazität (kWh)\\n\\nNennleistung \\nkW (PS)\\n\\nDrehmoment\\n(Nm)\\n\\nElektrische Reichweite \\nmax.\\u2009–\\u2009min. (WLTP)2\\n\\n(km)\\n\\nStromverbrauch kombiniert \\nmax.\\u2009–\\u2009min. (WLTP)2\\n\\n(kWh/100km)\\n\\nCO2\\xadEmissionen \\nkombiniert3\\n\\n(g/km)\\n\\nNoVA\\xadSatz Preis Euro\\ninkl. MwSt. und NoVA \\n\\nexkl. MwSt. und NoVA\\n\\nEQB 250+ \\nÖsterreich-Edition\\n\\n243.602 AT1 Elektro 70,5 140 (190) 385 464\\u2009–\\u2009533 17,5\\u2009–\\u200915,3 0 0% 55.490,—\\n46.241,67\\n\\nEQB 300 4MATIC \\nÖsterreich-Edition\\n\\n243.608 AT1 Elektro 66,5 168 (228) 390 396\\u2009–\\u2009444 19,2\\u2009–\\u200917,3 0 0% 57.290,—\\n47.741,67\\n\\n\\n\\n* Informationen zum offiziellen Kraftstoffverbrauch und den offiziellen CO2\\xadEmissionen neuer Personenkraftwagen finden Sie auch am Dokumentende.\\n\\nSämtliche Preise in dieser Preisliste sind nicht kartellgebunden und stellen unverbindliche Preisempfehlungen dar. Sie verstehen sich freibleibend jeweils für das serienmäßige Fahrzeug ab österreichischer Vertretung. Die Kaufpreise für Sonderausstattungen gelten nur für den Einbau im Herstellerwerk. Änderung in \\nKonstruktion und Ausstattung sowie Satz\\xad und Druckfehler vorbehalten.\\n\\nDie Fahrzeug\\xadListenpreise inkl. NoVA und 20 % MwSt. berücksichtigen die Bestimmungen des Normverbrauchsabgabegesetzes in der jeweils gültigen Fassung. Die Sonderausstattungspreise sind Listenpreise exkl. NoVA und 20 % MwSt. Zur Errechnung der Bruttopreise sind der modellabhängige Faktor für die NoVA \\nsowie 20\\u2009% MwSt. hinzuzurechnen. Dieser Faktor ist abhängig von Getriebeart, Reifendimension und dem entsprechenden Rollwiderstand des Reifens.\\n\\nAufgrund von Lieferengpässen bei diversen Fahrzeugteilen (vor allem Halbleitern) kommt es eventuell zu einer zeitweise eingeschränkten Verfügbarkeit. Aktuelle Informationen hierzu finden Sie auf unserer Homepage und bei Ihrem Mercedes\\xadBenz Partner.\\n\\nEQE.\\n\\n1 Inkl. Batteriezertifikat für die Dauer von 10 Jahren oder bis zu einer Laufleistung von 250.000 km (je nachdem was zuerst eintritt). Die genauen Bedingungen können Sie dem Serviceheft entnehmen, das dem Fahrzeug beiliegt.\\n2  Der zertifizierte elektrische Verbrauch wird in der Regel mit maximaler AC Ladeleistung durch ein Mode 3 Kabel bestimmt. Daher wird empfohlen, Fahrzeuge mit einer HV\\xadBatterie bevorzugt an einer Wallbox oder einer AC\\xadLadestation mit einem Mode 3 Kabel zu laden, um kürzere Ladezeiten \\n\\nund einen besseren Ladewirkungsgrad zu erreichen.\\n3 Im realen Fahrbetrieb können Abweichungen im Vergleich zu den zertifizierten Normwerten auftreten. Die Realwerte werden von einer Vielzahl individueller Faktoren beeinflusst, z.B. individuelle Fahrweise, Umwelt\\xad und Streckenverhältnisse.\\n\\nSerien\\xad \\nausstattung\\n\\nBaumuster\\xad\\nnummer\\n\\nMotor Batterie1 \\nnutzbare \\n\\nKapazität (kWh)\\n\\nNennleistung  \\n(Spitzenleistung) \\nkW (PS)\\n\\nDauerleistung  \\nAntrieb\\n(kW)\\n\\nDrehmoment\\n(Nm)\\n\\nElektrische Reichweite \\nmin.\\xad max. (WLTP)\\n(km)\\n\\nStromverbrauch kombiniert  \\nmax. \\xad min. (WLTP)\\n(kWh/100km)2\\n\\nCO2\\xadEmissionen \\nkombiniert  \\n(g/km)3\\n\\nNoVA\\xadSatz Preis Euro\\ninkl. MwSt. und NoVA\\n\\nexkl. MwSt. und NoVA\\n\\nEQE 300  \\nÖsterreich-Edition\\n\\n295.111 AT1 Elektro 89 180 (245) 109 550 532 \\xad 614 19,5 \\xad 16,8 0 0% 59.760,—\\n49.800,—\\n\\nEQE 350\\nÖsterreich-Edition\\n\\n295.125 AT1 Elektro 89 215 (292) 109 565 532 \\xad 614 19,5 \\xad 16,8 0 0% 68.690,—\\n57.241,67\\n\\nEQE 350+\\nÖsterreich-Edition\\n\\n295.121 AT1 Elektro 90,56 215 (292) 135 565 644 \\xad 675 15,7 \\xad 16,8 0 0% 71.890,—\\n59.908,33\\n\\nEQE 350 4MATIC\\nÖsterreich-Edition\\n\\n295.112 AT1 Elektro 89 215 (292) 135 765 537 \\xad 615 19,5 \\xad 17,0 0 0% 71.890,—\\n59.908,33\\n\\nEQE 500 4MATIC\\nÖsterreich-Edition\\n\\n295.122 AT1 Elektro 90,56 300 (408) 135 858 537 \\xad 612 19,5 \\xad 17,1 0 0% 85.690,—\\n71.408,33\\n\\nEQE 43 4MATIC\\nÖsterreich-Edition\\n\\n295.132 AT1 Elektro 90,56 350 (476) 135 858 436 \\xad 503 23,7 \\xad 20,6 0 0% 102.090,—\\n85.075,—\\n\\nEQE 53 4MATIC+\\nÖsterreich-Edition\\n\\n295.153 AT1 Elektro 90,56 460 (625) 185 950 441 \\xad 502 22,9 \\xad 20,5 0 0% 108.090,—\\n90.075,—\\n\\n\\n\\n* Informationen zum offiziellen Kraftstoffverbrauch und den offiziellen CO2\\xadEmissionen neuer Personenkraftwagen finden Sie auch am Dokumentende.\\n\\nSämtliche Preise in dieser Preisliste sind nicht kartellgebunden und stellen unverbindliche Preisempfehlungen dar. Sie verstehen sich freibleibend jeweils für das serienmäßige Fahrzeug ab österreichischer Vertretung. Die Kaufpreise für Sonderausstattungen gelten nur für den Einbau im Herstellerwerk. Änderung in \\nKonstruktion und Ausstattung sowie Satz\\xad und Druckfehler vorbehalten.\\n\\nDie Fahrzeug\\xadListenpreise inkl. NoVA und 20 % MwSt. berücksichtigen die Bestimmungen des Normverbrauchsabgabegesetzes in der jeweils gültigen Fassung. Die Sonderausstattungspreise sind Listenpreise exkl. NoVA und 20 % MwSt. Zur Errechnung der Bruttopreise sind der modellabhängige Faktor für die NoVA \\nsowie 20\\u2009% MwSt. hinzuzurechnen. Dieser Faktor ist abhängig von Getriebeart, Reifendimension und dem entsprechenden Rollwiderstand des Reifens.\\n\\nAufgrund von Lieferengpässen bei diversen Fahrzeugteilen (vor allem Halbleitern) kommt es eventuell zu einer zeitweise eingeschränkten Verfügbarkeit. Aktuelle Informationen hierzu finden Sie auf unserer Homepage und bei Ihrem Mercedes\\xadBenz Partner.\\n\\nEQE SUV.\\n\\n1 Inkl. Batteriezertifikat für die Dauer von 10 Jahren oder bis zu einer Laufleistung von 250.000 km (je nachdem was zuerst eintritt). Die genauen Bedingungen können Sie dem Serviceheft entnehmen, das dem Fahrzeug beiliegt.\\n2  Der zertifizierte elektrische Verbrauch wird in der Regel mit maximaler AC Ladeleistung durch ein Mode 3 Kabel bestimmt. Daher wird empfohlen, Fahrzeuge mit einer HV\\xadBatterie bevorzugt an einer Wallbox oder einer AC\\xadLadestation mit einem Mode 3 Kabel zu laden, um kürzere Ladezeiten \\n\\nund einen besseren Ladewirkungsgrad zu erreichen.\\n3 Im realen Fahrbetrieb können Abweichungen im Vergleich zu den zertifizierten Normwerten auftreten. Die Realwerte werden von einer Vielzahl individueller Faktoren beeinflusst, z.B. individuelle Fahrweise, Umwelt\\xad und Streckenverhältnisse.\\n\\nSerien\\xad \\nausstattung\\n\\nBaumuster\\xad\\nnummer\\n\\nMotor Batterie1   \\nnutzbare  \\nKapazität (kWh)\\n\\nNennleistung \\n(Spitzenleistung)\\nkW (PS)\\n\\nDauerleistung \\nAntrieb  \\n(kW)\\n\\nDrehmoment\\n(Nm)\\n\\nElektrische Reichweite \\nmin. \\xad max. (WLTP)2\\n\\n(km)\\n\\nStromverbrauch kombiniert \\nmax.\\u2009–\\u2009min. (WLTP)3\\n\\n(kWh/100km)\\n\\nCO2\\xadEmissionen \\nkombiniert4\\n\\n(g/km)\\n\\nNoVA\\xadSatz Preis Euro\\ninkl. MwSt. und NoVA\\nexkl. MwSt. und NoVA\\n\\nEQE 350+ \\nÖsterreich-Edition\\n\\n294.621 AT1 Elektro 96,00 215 (292) 109 565 537 \\xad 614 20,8 \\xad 18,2 0 0% 83.440,—\\n69.533,33\\n\\nEQE 350 4MATIC \\nÖsterreich-Edition\\n\\n294.612 AT1 Elektro 90,56 215 (292) 135 765 479 \\xad 553 21,8 \\xad 18,8 0 0% 85.990,—\\n71.658,33\\n\\nEQE 500 4MATIC \\nÖsterreich-Edition\\n\\n294.622 AT1 Elektro 96,00 300 (408) 135 858 514 \\xad 594 21,9 \\xad 18,8 0 0% 94.890,—\\n79.075,—\\n\\nEQE 43 4MATIC \\nÖsterreich-Edition\\n\\n294.632 AT1 Elektro 90,56 350 (476) 135 858 426 \\xad 469 25,4 \\xad 23,2 0 0% 117.390,—\\n97.825,—\\n\\nEQE 53 4MATIC+ \\nÖsterreich-Edition\\n\\n294.653 AT1 Elektro 90,56 460 (625) 185 950 411 \\xad 451 25,4 \\xad 23,2 0 0% 130.200,—\\n108.500,—\\n\\n\\n\\n* Informationen zum offiziellen Kraftstoffverbrauch und den offiziellen CO2\\xadEmissionen neuer Personenkraftwagen finden Sie auch am Dokumentende.\\n\\nSämtliche Preise in dieser Preisliste sind nicht kartellgebunden und stellen unverbindliche Preisempfehlungen dar. Sie verstehen sich freibleibend jeweils für das serienmäßige Fahrzeug ab österreichischer Vertretung. Die Kaufpreise für Sonderausstattungen gelten nur für den Einbau im Herstellerwerk. Änderung in \\nKonstruktion und Ausstattung sowie Satz\\xad und Druckfehler vorbehalten.\\n\\nDie Fahrzeug\\xadListenpreise inkl. NoVA und 20 % MwSt. berücksichtigen die Bestimmungen des Normverbrauchsabgabegesetzes in der jeweils gültigen Fassung. Die Sonderausstattungspreise sind Listenpreise exkl. NoVA und 20 % MwSt. Zur Errechnung der Bruttopreise sind der modellabhängige Faktor für die NoVA \\nsowie 20\\u2009% MwSt. hinzuzurechnen. Dieser Faktor ist abhängig von Getriebeart, Reifendimension und dem entsprechenden Rollwiderstand des Reifens.\\n\\nAufgrund von Lieferengpässen bei diversen Fahrzeugteilen (vor allem Halbleitern) kommt es eventuell zu einer zeitweise eingeschränkten Verfügbarkeit. Aktuelle Informationen hierzu finden Sie auf unserer Homepage und bei Ihrem Mercedes\\xadBenz Partner.\\n\\n1  Die angegebenen Werte sind die ermittelten WLTP\\xadCO2\\xadWerte i.S.v. Art. 2 Nr. 3 Durchführungsverordnung (EU) 2017/1153. Die Kraftstoffverbrauchswerte wurden auf Basis dieser Werte errechnet. Stromverbrauch und Reichweite wurden auf Grundlage  \\nder VO 2017/1151/EU ermittelt.\\n\\n2  Angaben zur Nennleistung und zum Nenndrehmoment nach Verordnung (EG) Nr. 595/2009 in der gegenwärtig geltenden Fassung.\\n\\nGLA.\\nSerienausstattung\\n\\nBaumuster\\xad\\nnummer\\n\\nLeistung kW \\n(PS) \\nDrehmoment2 Nm\\n\\nMotor/Zylinder\\nHubraum (cm³)\\n\\nKraftstoffverbrauch \\nkombiniert1 (l/100 km) \\nCO2\\xadEmissionen \\nkombiniert1 (g/km)  \\n\\nGetriebe NoVA\\xadSatz\\nPreis Euro\\ninkl. MwSt. und NoVA\\n\\nexkl. MwSt. und NoVA\\n\\nGLA 180 \\nÖsterreich-Edition\\n\\n247.784 AT1 100 + 10 \\n\\n(136 + 14) \\n\\n230\\n\\nBenziner/R4\\n\\n1.332\\n\\n7,3 \\xad 6,7\\n\\n165 \\xad 152\\n\\n7G\\xadDCT 11% 42.790,—\\n32.931,30\\n\\nGLA 200 d 4MATIC \\nÖsterreich-Edition\\n\\n247.713 AT1 110  \\n\\n(150)\\n\\n320\\n\\nDiesel/R4\\n\\n1.950\\n\\n6,2 \\xad 5,6\\n\\n162 \\xad 148 \\n\\n8G\\xadDCT 10% 48.360,—\\n37.469,23\\n\\n\\n\\n* Informationen zum offiziellen Kraftstoffverbrauch und den offiziellen CO2\\xadEmissionen neuer Personenkraftwagen finden Sie auch am Dokumentende.\\n\\nSämtliche Preise in dieser Preisliste sind nicht kartellgebunden und stellen unverbindliche Preisempfehlungen dar. Sie verstehen sich freibleibend jeweils für das serienmäßige Fahrzeug ab österreichischer Vertretung. Die Kaufpreise für Sonderausstattungen gelten nur für den Einbau im Herstellerwerk. Änderung in \\nKonstruktion und Ausstattung sowie Satz\\xad und Druckfehler vorbehalten.\\n\\nDie Fahrzeug\\xadListenpreise inkl. NoVA und 20 % MwSt. berücksichtigen die Bestimmungen des Normverbrauchsabgabegesetzes in der jeweils gültigen Fassung. Die Sonderausstattungspreise sind Listenpreise exkl. NoVA und 20 % MwSt. Zur Errechnung der Bruttopreise sind der modellabhängige Faktor für die NoVA \\nsowie 20\\u2009% MwSt. hinzuzurechnen. Dieser Faktor ist abhängig von Getriebeart, Reifendimension und dem entsprechenden Rollwiderstand des Reifens.\\n\\nAufgrund von Lieferengpässen bei diversen Fahrzeugteilen (vor allem Halbleitern) kommt es eventuell zu einer zeitweise eingeschränkten Verfügbarkeit. Aktuelle Informationen hierzu finden Sie auf unserer Homepage und bei Ihrem Mercedes\\xadBenz Partner.\\n\\nSerienausstattung\\n\\nBaumuster\\xad\\nnummer\\n\\nLeistung kW \\n(PS) \\nDrehmoment2 Nm\\n\\nMotor/Zylinder\\nHubraum (cm³)\\n\\nKraftstoffverbrauch \\nkombiniert1 (l/100 km) \\nCO2\\xadEmissionen \\nkombiniert1 (g/km)  \\n\\nGetriebe NoVA\\xadSatz\\nPreis Euro\\ninkl. MwSt. und NoVA\\n\\nexkl. MwSt. und NoVA\\n\\nGLB 180 \\nÖsterreich-Edition\\n\\n247.684 AT1 100 + 10\\n\\n(136 + 14)\\n\\n230\\n\\nBenziner/R4\\n\\n1,332\\n\\n7,6 \\xad 7,0\\n\\n173 \\xad 158\\n\\n7G\\xadDCT 12% 44.090,—\\n33.484,85\\n\\nGLB 200 d 4MATIC \\nÖsterreich-Edition\\n\\n247.613 AT1 110 \\n\\n(150)\\n\\n320\\n\\nDiesel/R4\\n\\n1.950\\n\\n6,4 \\xad 5,8\\n\\n167 \\xad 153\\n\\n8G\\xadDCT 11% 50.380,—\\n38.725,19\\n\\n1  Die angegebenen Werte sind die ermittelten WLTP\\xadCO2\\xadWerte i.S.v. Art. 2 Nr. 3 Durchführungsverordnung (EU) 2017/1153. Die Kraftstoffverbrauchswerte wurden auf Basis dieser Werte errechnet. Stromverbrauch und Reichweite wurden auf Grundlage  \\nder VO 2017/1151/EU ermittelt.\\n\\n2  Angaben zur Nennleistung und zum Nenndrehmoment nach Verordnung (EG) Nr. 595/2009 in der gegenwärtig geltenden Fassung.\\n\\nGLB.\\n\\n\\n\\nSERIENAUSSTATTUNG \\n\\nModell\\xad\\nnummer\\n\\nLeistung \\nin kW (PS)\\n\\nHubraum \\nin cm3\\n\\nGetriebe Verbrauch* CO2\\xadEmissionen* \\nin g/km\\n\\nNoVA\\xadSatz Preis inkl. NoVA MwSt.\\n\\nPreis exkl. NoVA MwSt.\\n\\nGLC 300e 4MATIC \\nÖsterreich-Edition\\n\\n254.656 AT1 150 (204)\\n+ 100 (136)\\n\\n1999 9G\\xadTRONIC 0,6 \\xad 0,5 15 \\xad 12 0% EUR\\xa064.500,—\\nEUR\\xa053.750,—\\n\\nGLC 300 de 4MATIC \\nÖsterreich-Edition\\n\\n254.609 AT1 145 (197) \\n+ 100 (136)\\n\\n1993 9G\\xadTRONIC 0,5 \\xad 0,4 14 \\xad 10 0% EUR\\xa065.660,—\\nEUR\\xa054.716,67\\n\\n1  Die angegebenen Werte sind die ermittelten WLTP\\xadCO2\\xadWerte i.S.v. Art. 2 Nr. 3 Durchführungsverordnung (EU) 2017/1153. Die Kraftstoffverbrauchswerte wurden auf Basis dieser Werte errechnet. Stromverbrauch und Reichweite wurden auf Grundlage  \\nder VO 2017/1151/EU ermittelt.\\n\\n2  Angaben zur Nennleistung und zum Nenndrehmoment nach Verordnung (EG) Nr. 595/2009 in der gegenwärtig geltenden Fassung.\\n\\nGLC SUV.\\n\\n* Informationen zum offiziellen Kraftstoffverbrauch und den offiziellen CO2\\xadEmissionen neuer Personenkraftwagen finden Sie auch am Dokumentende.\\n\\nSämtliche Preise in dieser Preisliste sind nicht kartellgebunden und stellen unverbindliche Preisempfehlungen dar. Sie verstehen sich freibleibend jeweils für das serienmäßige Fahrzeug ab österreichischer Vertretung. Die Kaufpreise für Sonderausstattungen gelten nur für den Einbau im Herstellerwerk. Änderung in \\nKonstruktion und Ausstattung sowie Satz\\xad und Druckfehler vorbehalten.\\n\\nDie Fahrzeug\\xadListenpreise inkl. NoVA und 20 % MwSt. berücksichtigen die Bestimmungen des Normverbrauchsabgabegesetzes in der jeweils gültigen Fassung. Die Sonderausstattungspreise sind Listenpreise exkl. NoVA und 20 % MwSt. Zur Errechnung der Bruttopreise sind der modellabhängige Faktor für die NoVA \\nsowie 20\\u2009% MwSt. hinzuzurechnen. Dieser Faktor ist abhängig von Getriebeart, Reifendimension und dem entsprechenden Rollwiderstand des Reifens.\\n\\nAufgrund von Lieferengpässen bei diversen Fahrzeugteilen (vor allem Halbleitern) kommt es eventuell zu einer zeitweise eingeschränkten Verfügbarkeit. Aktuelle Informationen hierzu finden Sie auf unserer Homepage und bei Ihrem Mercedes\\xadBenz Partner.\\n\\n\\n\\nGLC Coupé.\\nBaumuster\\xad\\nnummer\\n\\nMotor\\nHubraum (cm3)\\nZylinder\\n\\nGetriebe Nennleistung2  \\nkW (PS) \\nDrehmoment2 Nm \\nVerbrennungs\\xad \\nmotor\\n\\nNennleistung \\nkW (PS) \\nDrehmoment  \\nNm\\nE\\xadMotor\\n\\nSystemleistung\\nkW (PS) \\nDrehmoment \\nNm\\n\\nHöchstgeschwindigkeit \\nkm/h\\nBeschleunigung\\n0\\xad100 km/h (s)\\nelektr. Reichweite1\\n\\nmin. \\xad max. km\\n\\nVerbrauch \\ngewichtet kombiniert1\\n\\nl/100 km\\nStromverbrauch  \\ngewichtet kombiniert1\\n\\nkWh/100 km\\n\\nCO2\\xadEmissionen  \\ngewichtet  \\nkombiniert1 g/km\\nEmissionsklasse\\n\\nNoVA\\xadSatz\\nSerien \\xad\\nausstattung\\n\\nPreis Euro\\ninkl. MwSt. und NoVA\\n\\nexkl. MwSt. und NoVA\\n\\nGLC 300 e 4MATIC \\nÖsterreich-Edition\\n\\n254.356 AT1 Benziner\\n\\n1.999\\n\\n4/R\\n\\n9G\\xadTRONIC 150 (204) \\n\\n320\\n\\n100 (136) \\n\\n440\\n\\n230 (313)\\n\\n550\\n\\n220\\n\\n6,7 \\n\\n108 \\xad 124\\n\\n0,6 \\xad 0,5 \\n\\n22,4 \\xad 20,2  \\n\\n15,0 \\xad 11,0 \\n\\nEuro 6d\\xadISC\\xad\\n\\nFCM\\n\\n0% 72.200,—\\n60.166,67\\n\\nGLC 300 de 4MATIC \\nÖsterreich-Edition\\n\\n254.309 AT1 Diesel\\n\\n1.993 \\n\\n4/R\\n\\n9G\\xadTRONIC 145 (197) \\n\\n440\\n\\n100 (136) \\n\\n440\\n\\n245 (333)\\n\\n750\\n\\n219\\n\\n6,4 \\n\\n107 \\xad 122\\n\\n0,5 \\xad 0,4 \\n\\n22,7 \\xad 20,3\\n\\n13,0 \\xad 10,0 \\n\\nEuro 6d\\xadISC\\xad\\n\\nFCM\\n\\n0% 71.850,—\\n59.875,—\\n\\n1  Die angegebenen Werte sind die ermittelten WLTP\\xadCO2\\xadWerte i.S.v. Art. 2 Nr. 3 Durchführungsverordnung (EU) 2017/1153. Die Kraftstoffverbrauchswerte wurden auf Basis dieser Werte errechnet. Stromverbrauch und Reichweite wurden auf Grundlage  \\nder VO 2017/1151/EU ermittelt.\\n\\n2  Angaben zur Nennleistung und zum Nenndrehmoment nach Verordnung (EG) Nr. 595/2009 in der gegenwärtig geltenden Fassung\\n\\n* Informationen zum offiziellen Kraftstoffverbrauch und den offiziellen CO2\\xadEmissionen neuer Personenkraftwagen finden Sie auch am Dokumentende.\\n\\nSämtliche Preise in dieser Preisliste sind nicht kartellgebunden und stellen unverbindliche Preisempfehlungen dar. Sie verstehen sich freibleibend jeweils für das serienmäßige Fahrzeug ab österreichischer Vertretung. Die Kaufpreise für Sonderausstattungen gelten nur für den Einbau im Herstellerwerk. Änderung in \\nKonstruktion und Ausstattung sowie Satz\\xad und Druckfehler vorbehalten.\\n\\nDie Fahrzeug\\xadListenpreise inkl. NoVA und 20 % MwSt. berücksichtigen die Bestimmungen des Normverbrauchsabgabegesetzes in der jeweils gültigen Fassung. Die Sonderausstattungspreise sind Listenpreise exkl. NoVA und 20 % MwSt. Zur Errechnung der Bruttopreise sind der modellabhängige Faktor für die NoVA \\nsowie 20\\u2009% MwSt. hinzuzurechnen. Dieser Faktor ist abhängig von Getriebeart, Reifendimension und dem entsprechenden Rollwiderstand des Reifens.\\n\\nAufgrund von Lieferengpässen bei diversen Fahrzeugteilen (vor allem Halbleitern) kommt es eventuell zu einer zeitweise eingeschränkten Verfügbarkeit. Aktuelle Informationen hierzu finden Sie auf unserer Homepage und bei Ihrem Mercedes\\xadBenz Partner.\\n\\n\\n\\nGLE SUV.\\n\\n* Informationen zum offiziellen Kraftstoffverbrauch und den offiziellen CO2\\xadEmissionen neuer Personenkraftwagen finden Sie auch am Dokumentende.\\n\\nSämtliche Preise in dieser Preisliste sind nicht kartellgebunden und stellen unverbindliche Preisempfehlungen dar. Sie verstehen sich freibleibend jeweils für das serienmäßige Fahrzeug ab österreichischer Vertretung. Die Kaufpreise für Sonderausstattungen gelten nur für den Einbau im Herstellerwerk. Änderung in \\nKonstruktion und Ausstattung sowie Satz\\xad und Druckfehler vorbehalten.\\n\\nDie Fahrzeug\\xadListenpreise inkl. NoVA und 20 % MwSt. berücksichtigen die Bestimmungen des Normverbrauchsabgabegesetzes in der jeweils gültigen Fassung. Die Sonderausstattungspreise sind Listenpreise exkl. NoVA und 20 % MwSt. Zur Errechnung der Bruttopreise sind der modellabhängige Faktor für die NoVA \\nsowie 20\\u2009% MwSt. hinzuzurechnen. Dieser Faktor ist abhängig von Getriebeart, Reifendimension und dem entsprechenden Rollwiderstand des Reifens.\\n\\nAufgrund von Lieferengpässen bei diversen Fahrzeugteilen (vor allem Halbleitern) kommt es eventuell zu einer zeitweise eingeschränkten Verfügbarkeit. Aktuelle Informationen hierzu finden Sie auf unserer Homepage und bei Ihrem Mercedes\\xadBenz Partner.\\n\\n1  Angaben zur Nennleistung und zum Nenndrehmoment nach Verordnung (EG) Nr. 595/2009 in der gegenwärtig geltenden Fassung.\\n2  Die angegebenen Werte sind die ermittelten WLTP\\xadCO2\\xadWerte i.S.v. Art. 2 Nr. 3 Durchführungsverordnung (EU) 2017/1153. Die Kraftstoffverbrauchswerte wurden auf Basis dieser Werte errechnet. Stromverbrauch und Reichweite wurden auf Grundlage  \\n\\nder VO 2017/1151/EU ermittelt.\\n\\nSerien\\xad \\nausstattung\\n\\nMotor\\nHubraum cm3\\n\\nZylinder\\n\\nGetriebe Nennleistung1 \\nkW (PS) \\nDrehmoment Nm\\nVerbrennungs\\xad \\nmotor\\n\\nNennleistung1 \\nkW (PS) \\nDrehmoment  \\nNm\\nE\\xadMotor\\n\\nSystemleistung\\nkW (PS) \\nDrehmoment \\nNm\\n\\nHöchstgeschwindigkeit \\nkm/h\\nBeschleunigung\\n0\\xad100 km/h (s)\\nelektr. Reichweite\\nmin. \\xad max. km\\n\\nKraftstoffverbrauch \\ngewichtet kombiniert2\\n\\nl/100 km\\nStromverbrauch  \\ngewichtet kombiniert2\\n\\nkWh/100 km\\n\\nCO2\\xadEmissionen  \\ngewichtet  \\nkombiniert2 g/km\\nEmissionsklasse\\n\\nNoVA\\xadSatz\\n\\nPreis Euro\\ninkl. MwSt. und NoVA\\n\\nexkl. MwSt. und NoVA\\n\\nGLE 350 de \\n4MATIC\\nÖsterreich-Edition\\n\\n167.106 AT1 9G\\xadTRONIC\\n\\n(automatisch)\\n\\n145 (197)\\n\\n440\\n\\n100 (136)\\n\\n440\\n\\n245 (333)\\n\\n750\\n\\n210\\n\\n6,9 \\n\\n86 \\xad 98\\n\\n0,9 \\xad 0,6 \\n\\n27,7 \\xad 24,2  \\n\\n23,0 \\xad 17,0  0% 89.690,— \\n74.741,67 \\n\\n\\n\\nGLE Coupé.\\n\\n* Informationen zum offiziellen Kraftstoffverbrauch und den offiziellen CO2\\xadEmissionen neuer Personenkraftwagen finden Sie auch am Dokumentende.\\n\\nSämtliche Preise in dieser Preisliste sind nicht kartellgebunden und stellen unverbindliche Preisempfehlungen dar. Sie verstehen sich freibleibend jeweils für das serienmäßige Fahrzeug ab österreichischer Vertretung. Die Kaufpreise für Sonderausstattungen gelten nur für den Einbau im Herstellerwerk. Änderung in \\nKonstruktion und Ausstattung sowie Satz\\xad und Druckfehler vorbehalten.\\n\\nDie Fahrzeug\\xadListenpreise inkl. NoVA und 20 % MwSt. berücksichtigen die Bestimmungen des Normverbrauchsabgabegesetzes in der jeweils gültigen Fassung. Die Sonderausstattungspreise sind Listenpreise exkl. NoVA und 20 % MwSt. Zur Errechnung der Bruttopreise sind der modellabhängige Faktor für die NoVA \\nsowie 20\\u2009% MwSt. hinzuzurechnen. Dieser Faktor ist abhängig von Getriebeart, Reifendimension und dem entsprechenden Rollwiderstand des Reifens.\\n\\nAufgrund von Lieferengpässen bei diversen Fahrzeugteilen (vor allem Halbleitern) kommt es eventuell zu einer zeitweise eingeschränkten Verfügbarkeit. Aktuelle Informationen hierzu finden Sie auf unserer Homepage und bei Ihrem Mercedes\\xadBenz Partner.\\n\\nSerien \\xad\\nausstattung\\n\\nBaumuster\\xad \\nnummer\\n\\nMotor\\nHubraum cm3\\n\\nZylinder\\n\\nGetriebe Nennleistung1  \\nkW (PS) \\nDrehmoment Nm\\nVerbrennungs\\xad \\nmotor\\n\\nNennleistung1 \\nkW (PS) \\nDrehmoment  \\nNm\\nE\\xadMotor\\n\\nSystemleistung\\nkW (PS) \\nDrehmoment \\nNm\\n\\nHöchstgeschwindigkeit \\nkm/h\\nBeschleunigung\\n0\\xad100 km/h (s)\\nelektr. Reichweite\\nmin. \\xad max. km\\n\\nKraftstoffverbrauch \\ngewichtet kombiniert2\\n\\nl/100 km\\nStromverbrauch  \\ngewichtet kombiniert2\\n\\nkWh/100 km\\n\\nCO2\\xadEmissionen  \\ngewichtet  \\nkombiniert2 g/km\\nEmissionsklasse\\n\\nNoVA\\xadSatz\\n\\nPreis Euro\\ninkl. MwSt. und NoVA\\n\\nexkl. MwSt. und NoVA\\n\\nGLE 350 de \\n4MATIC\\nÖsterreich-Edition\\n\\n167.306 AT1 Diesel\\n\\n1.993\\n\\nR4\\n\\n9G\\xadTRONIC  \\n\\n(automatisch)\\n\\n145 (197)\\n\\n440\\n\\n100 (136) \\n\\n440\\n\\n245 (333)\\n\\n750\\n\\n210\\n\\n6,9 \\n\\n89 \\xad 100\\n\\n0,8 \\xad 0,7 \\n\\n26,6 \\xad 25,5\\n\\n20,0 \\xad 16,0 \\n\\nEuro 6d\\xadISC\\xad\\n\\nFCM\\n\\n0% 102.190,— \\n85.158,33 \\n\\n1  Angaben zur Nennleistung und zum Nenndrehmoment nach Verordnung (EG) Nr. 595/2009 in der gegenwärtig geltenden Fassung.\\n2  Die angegebenen Werte sind die ermittelten WLTP\\xadCO2\\xadWerte i.S.v. Art. 2 Nr. 3 Durchführungsverordnung (EU) 2017/1153. Die Kraftstoffverbrauchswerte wurden auf Basis dieser Werte errechnet. Stromverbrauch und Reichweite wurden auf Grundlage  \\n\\nder VO 2017/1151/EU ermittelt.\\n\\n\\n\\nVerbrauchswerte \\nDie angegebenen Werte wurden nach dem vorgeschriebenen Messverfahren ermittelt. Es handelt sich um „WLTP-CO2-Werte“ (Worldwide Harmonized Light-Duty Vehicles Test  \\nProcedure) i.S.v. Art. 2 Nr. 3 Durchführungsverordnung (EU) 2017/1153. Die Kraftstoffverbrauchswerte wurden auf Basis dieser Werte errechnet. Der Stromverbrauch wurde auf der \\nGrundlage der VO 692/2008/EG ermittelt. Aufgrund gesetzlicher Änderungen der maßgeblichen Prüfverfahren können in der für die Fahrzeugzulassung und ggf. Kfz-Steuer maßgeb-\\nlichen Übereinstimmungsbescheinigung des Fahrzeugs abweichende Werte eingetragen sein.\\n\\nDie angegebenen Werte für Kraftstoff- und Energieverbrauch sowie der CO2-Emissionen werden anhand harmonisierter Prüfprotokolle berechnet und beziehen sich auf Fahrzeug-\\nmodelle mit Basisausstattung. Mit Ausnahme der Kraftstoffeffizienz beeinflussen der Fahrstil, die Motorausstattung und andere, nichttechnische Faktoren den tatsächlichen Kraft-\\nstoff- und Energieverbrauch sowie die Menge der CO2-Emissionen. Die dabei kommunizierten und angezeigten Reichweiten sind Richtwerte, welche auf dem WLTP–Prüfzyklus \\nberuhen und eine Vergleichbarkeit der Fahrzeuge ermöglichen sollen. Sie berücksichtigen nicht das persönliche Fahrverhalten oder externe Faktoren wie Fahrweise, Ausstattung, \\nTopografie, Geschwindigkeit, Nutzungsgrad und äußere Bedingungen. Diese Werte stellen daher keine Zusage über tatsächlich erzielbare Werte dar.\\n\\nFaktoren, die den Kraftstoff- und Energieverbrauch beeinflussen und zu einem erhöhten Verbrauch führen können, sind beispielsweise erhöhte Fahrgeschwindigkeit, Beförderung \\nschwerer Lasten, Beförderung mehrerer Personen, Beheizen des Fahrzeuginnenraumes, Kühlen des Fahrzeuginnenraumes, Umgebungsbedingungen (z.B. kaltes Wetter, warmes  \\nWetter und Wind), kraftstoff- und energieaufwendige Fahrstrecken (z.B. Bergauffahrten, Autobahnfahrten) und von der Basisausstattung abweichende Sonderausstattungen.\\n\\nUnter besonderen äußeren Bedingungen (z.B. sehr niedrige oder sehr hohe Temperaturen, Bergaufstrecken) kann es auch zu stark erhöhten Abweichungen des Kraftstoff- und  \\nEnergieverbrauchswerte sowie der CO2-Emissionen kommen. Auf https://www.mercedes-benz.at können Sie auf der jeweiligen Produktseite die Reichweiten unter Zugrundele-\\ngung verschiedener Parameter simulieren. Diese als praxisnah bezeichneten Werte beziehen sich auf die von Ihnen getroffen externen Faktoren und stellen nur eine Schätzung zu  \\nmöglichen Reichweiten bei einer beispielhaften Fahrzeugkonfiguration und beispielhafter Nutzung von Nebenverbrauchern wie beispielsweise Sitzheizung und Fahrassistenz- \\nsystemen dar. Außerdem hängt sie von dem Streckenprofil und Ihrer individuellen Fahrweise ab. Auch diese Werte stellen daher keine Zusage über tatsächlich erzielbare Werte dar.\\n\\nCO2 (Kohlendioxid) trägt unter den Treibhausgasen am meisten zum Treibhauseffekt bei. Informationen zu Kraftstoffverbrauch und CO2-Emissionen mit Daten zu allen neuen \\n Pkw-Modellen finden Sie auf der Website www.autoverbrauch.at. Sie bietet die Möglichkeit, verschiedene Fahrzeugmodelle hinsichtlich Wirtschaftlichkeit, Umwelt, Sicherheit und \\nTechnik miteinander zu vergleichen.\\n\\nDer angegebene WLTP-Wert für ein Fahrzeug, das noch nicht hergestellt wurde, ist vorläufig. Der endgültige WLTP-Wert für das Fahrzeug wird in der Konformitätsbescheinigung  \\ndes Fahrzeugs vermerkt und kann aufgrund unvorhersehbarer Änderungen im Herstellungsprozess von dem in diesem Dokument angegebenen vorläufigen Wert abweichen.\\n\\nVERBRA\\n\\n\\n\\nwww.twitter.com/MercedesBenz_ATwww.facebook.com/MercedesBenz.AustriaMercedes-Benz Österreich GmbH\\nwww.mercedes-benz.at\\n\\nRuckeseite Preisliste_237x168.indd   1 04.03.15   10:11\\n\\nSpeicherung technischer Daten im Fahrzeug: Elektronische Fahrzeugkomponenten (z.B. Airbag-Steuergerät, Motorsteuergerät, etc.) ent halten \\nDatenspeicher für technische Fahrzeugdaten, wie z. B. Meldungen im Falle von Funktionsstörungen, Geschwindigkeit des  Fahrzeuges, Brems-\\nstärke oder Funktionsweise von Rückhalte- und Fahrerassistenz-Systemen im Falle eines Unfallereignisses (Audio- und Videodaten  werden nicht \\ngespeichert). Die Daten werden flüchtig, punktuell als Momentaufnahme z.\\u2009B. im Falle einer Störungsmeldung, über einen sehr kurzen Aufzeich-\\nnungszeitraum (maximal wenige Sekunden) z.\\u2009B. im Falle eines Unfalls oder in zusammengefasster Form z.B. zur  Bewertung der Bauteilbeanspru-\\nchung gespeichert. Die gespeicherten Daten können über Schnittstellen im Fahrzeug ausgelesen, von geschulten Tech nikern zur Diagnose und \\nBehebung etwaiger Funktionsstörungen oder vom Hersteller zur Analyse und zur weiteren Verbesserung von Fahrzeug funktionen verarbeitet und \\ngenutzt werden. Auf Wunsch des Kunden können Daten auch als Basis für weitere optionale Dienstleistungen dienen. Eine Übertragung der Daten \\naus dem Fahrzeug heraus an den Hersteller bzw. Dritte erfolgt grundsätzlich nur aufgrund gesetzlicher Erlaubnis (z.B. Fahrzeugnotruf e-Call), oder \\naufgrund vertraglichen Einverständnisses mit dem Kunden unter Berücksichtigung des Datenschutzrechts. Weitere Informationen zu gespeicher-\\nten Daten im Fahrzeug befinden sich in der Betriebsanleitung des Fahrzeugs. Diese finden Sie gedruckt und interaktiv im Fahrzeug oder online \\nunter www.mercedes-benz.de/betriebsanleitung.\\n\\nMercedes-Benz ist einer der Gründungspartner der Stiftung „Laureus Sport for Good Foundation“.\\nSeit der Stiftungsgründung im Jahr 2000 unterstützt und fördert Mercedes-Benz die Ziele und Werte dieses weltweiten, \\ngemeinnützigen Programms: mit sozialen Sportprojekten das Leben von benachteiligten oder kranken Kindern und \\nJugendlichen zu verbessern. Laureus wurde zu einem grundlegenden Bestandteil der gesellschaftlichen Verantwortung  \\nvon Mercedes-Benz. Jeder neue Mercedes ist daher ein Botschafter dieser Werte. Mit dem Kauf eines Mercedes  \\nunterstützen Sie die Stiftung „Laureus Sport for Good Foundation“.\\n\\nNachhaltigkeit und Umweltschutz bei Mercedes-Benz.\\nSollten Sie sich eines Tages von Ihrem Fahrzeug trennen müssen, so bitten wir Sie, Ihr Fahrzeug innerhalb unseres \\nRücknahmenetzwerks zurück zu geben. Mercedes-Benz organisiert eine einfache und kostenlose Rücknahme sowie eine \\ngesetzeskonforme und umweltverträgliche Verwertung Ihres Fahrzeugs. Durch die Rückgabe Ihres Fahrzeugs und die \\ndamit verbundene effiziente Wiederverwendung der Materialien leisten Sie einen wertvollen Beitrag zur Schließung des \\nRecyclingkreislaufes und zur Schonung all unserer Ressourcen.\\n\\n221223\\n\\nhttps://de-de.facebook.com/MercedesBenz.Austria/\\nhttps://twitter.com/MercedesBenz_AT?ref_src=twsrc%5Egoogle%7Ctwcamp%5Eserp%7Ctwgr%5Eauthor\\n\\n\\tSchaltfläche 2: \\n\\tSchaltfläche 3: \\n\\tSchaltfläche 4: \\n\\tSchaltfläche 5: \\n\\tSchaltfläche 6: \\n\\tSchaltfläche 7: \\n\\tSchaltfläche 8: \\n\\tSchaltfläche 9: \\n\\tSchaltfläche 10: \\n\\tSchaltfläche 11: \\n\\tSchaltfläche 12: \\n\\tSchaltfläche 13: \\n\\tSchaltfläche 14: \\n\\tSchaltfläche 15: \\n\\tSchaltfläche 16: \\n\\tSchaltfläche 17: \\n\\tSchaltfläche 1: \\n\\tSchaltfläche 1012: \\n\\tSchaltfläche 1013: \\n\\n\\n', 'status': 200}\n"
     ]
    }
   ],
   "source": [
    "# parsing pdf file\n",
    "parsed = parser.from_file(path)\n",
    "print(parsed)"
   ]
  },
  {
   "cell_type": "code",
   "execution_count": 3,
   "metadata": {
    "executionInfo": {
     "elapsed": 13,
     "status": "ok",
     "timestamp": 1705591027428,
     "user": {
      "displayName": "서광원",
      "userId": "16565142075503869200"
     },
     "user_tz": -60
    },
    "id": "uNxYKJm2aYUh"
   },
   "outputs": [],
   "source": [
    "# get the content of pdf file\n",
    "content = parsed['content']\n",
    "\n",
    "# remove \\n from the content\n",
    "content = content.replace('\\n','')"
   ]
  },
  {
   "cell_type": "code",
   "execution_count": 4,
   "metadata": {
    "executionInfo": {
     "elapsed": 13,
     "status": "ok",
     "timestamp": 1705591027428,
     "user": {
      "displayName": "서광원",
      "userId": "16565142075503869200"
     },
     "user_tz": -60
    },
    "id": "QwVG30T33LYz"
   },
   "outputs": [],
   "source": [
    "# make a list of things I want to get from the file\n",
    "n = 'Name'\n",
    "o = 'Option'\n",
    "tq = 'Torque(Nm)'\n",
    "ez = 'Engine/Zylinder'\n",
    "dp = 'Displacement(cm3)'\n",
    "fc = 'Fuel Consumption(l/100 km)'\n",
    "co2 = 'CO2 Emissions(g/km)'\n",
    "p = 'Price(euro)'\n",
    "\n",
    "items = [n, o, tq, ez, dp, fc, co2, p]"
   ]
  },
  {
   "cell_type": "code",
   "execution_count": 5,
   "metadata": {},
   "outputs": [],
   "source": [
    "# make dictionary for information\n",
    "A_dic = {}\n",
    "\n",
    "for item in items:\n",
    "    A_dic[item] = None"
   ]
  },
  {
   "cell_type": "code",
   "execution_count": 6,
   "metadata": {},
   "outputs": [
    {
     "name": "stdout",
     "output_type": "stream",
     "text": [
      "['A 180 ', 'A 180 d']\n"
     ]
    }
   ],
   "source": [
    "# get option list from the file\n",
    "from getSome import getSome\n",
    "\n",
    "getOption = getSome(r'A 180 d?',content)\n",
    "options_A = getOption.get()\n",
    "print(options_A)"
   ]
  },
  {
   "cell_type": "code",
   "execution_count": 7,
   "metadata": {},
   "outputs": [],
   "source": [
    "# make name list as much as the length of option list\n",
    "names_A = []\n",
    "\n",
    "for i in range(len(options_A)):\n",
    "    names_A.append('A-Klasse')"
   ]
  },
  {
   "cell_type": "code",
   "execution_count": 8,
   "metadata": {},
   "outputs": [
    {
     "data": {
      "text/plain": [
       "{'Name': ['A-Klasse', 'A-Klasse'],\n",
       " 'Option': ['A 180 ', 'A 180 d'],\n",
       " 'Torque(Nm)': [230, 280],\n",
       " 'Engine/Zylinder': ['Benziner/R4', 'Diesel/R4'],\n",
       " 'Displacement(cm3)': [1332, 1950],\n",
       " 'Fuel Consumption(l/100 km)': ['6,5 - 5,9', '5,5 - 5,0'],\n",
       " 'CO2 Emissions(g/km)': ['148 - 134', '145 - 132'],\n",
       " 'Price(euro)': [34990, 36990]}"
      ]
     },
     "execution_count": 8,
     "metadata": {},
     "output_type": "execute_result"
    }
   ],
   "source": [
    "# put other information into the dictionary\n",
    "A_dic[n] = names_A\n",
    "A_dic[o] = options_A\n",
    "A_dic[tq] = [230, 280]\n",
    "A_dic[ez] = ['Benziner/R4', 'Diesel/R4']\n",
    "A_dic[dp] = [1332, 1950]\n",
    "A_dic[fc] = ['6,5 - 5,9', '5,5 - 5,0']\n",
    "A_dic[co2] = ['148 - 134', '145 - 132']\n",
    "A_dic[p] = [34990, 36990]\n",
    "\n",
    "A_dic"
   ]
  },
  {
   "cell_type": "code",
   "execution_count": 19,
   "metadata": {},
   "outputs": [],
   "source": [
    "# export the dictionary in form of csv file\n",
    "import pandas as pd\n",
    "\n",
    "A = pd.DataFrame(A_dic)\n",
    "A.to_csv('A-Klasse.csv', index= False)"
   ]
  },
  {
   "cell_type": "code",
   "execution_count": null,
   "metadata": {},
   "outputs": [],
   "source": [
    "# same process repeated from here"
   ]
  },
  {
   "cell_type": "code",
   "execution_count": 9,
   "metadata": {},
   "outputs": [],
   "source": [
    "B_dic = {}\n",
    "\n",
    "for item in items:\n",
    "    B_dic[item] = None"
   ]
  },
  {
   "cell_type": "code",
   "execution_count": 10,
   "metadata": {},
   "outputs": [
    {
     "name": "stdout",
     "output_type": "stream",
     "text": [
      "['B 180 ', 'B 180 d']\n"
     ]
    }
   ],
   "source": [
    "getOption = getSome(r'B 180 d?',content)\n",
    "options_B = getOption.get()\n",
    "print(options_B)"
   ]
  },
  {
   "cell_type": "code",
   "execution_count": 11,
   "metadata": {},
   "outputs": [],
   "source": [
    "names_B = []\n",
    "\n",
    "for i in range(len(options_B)):\n",
    "    names_B.append('B-Klasse')"
   ]
  },
  {
   "cell_type": "code",
   "execution_count": 12,
   "metadata": {},
   "outputs": [
    {
     "data": {
      "text/plain": [
       "{'Name': ['B-Klasse', 'B-Klasse'],\n",
       " 'Option': ['B 180 ', 'B 180 d'],\n",
       " 'Torque(Nm)': [230, 280],\n",
       " 'Engine/Zylinder': ['Benziner/R4', 'Diesel/R4'],\n",
       " 'Displacement(cm3)': [1332, 1950],\n",
       " 'Fuel Consumption(l/100 km)': ['6,8 - 6,1', '5,7 - 5,2'],\n",
       " 'CO2 Emissions(g/km)': ['154 - 138', '150 - 136'],\n",
       " 'Price(euro)': [35990, 38490]}"
      ]
     },
     "execution_count": 12,
     "metadata": {},
     "output_type": "execute_result"
    }
   ],
   "source": [
    "B_dic[n] = names_B\n",
    "B_dic[o] = options_B\n",
    "B_dic[tq] = [230, 280]\n",
    "B_dic[ez] = ['Benziner/R4', 'Diesel/R4']\n",
    "B_dic[dp] = [1332, 1950]\n",
    "B_dic[fc] = ['6,8 - 6,1', '5,7 - 5,2']\n",
    "B_dic[co2] = ['154 - 138', '150 - 136']\n",
    "B_dic[p] = [35990, 38490]\n",
    "\n",
    "B_dic"
   ]
  },
  {
   "cell_type": "code",
   "execution_count": 14,
   "metadata": {
    "executionInfo": {
     "elapsed": 12,
     "status": "ok",
     "timestamp": 1705591027708,
     "user": {
      "displayName": "서광원",
      "userId": "16565142075503869200"
     },
     "user_tz": -60
    },
    "id": "uDVXjcCPjC-l"
   },
   "outputs": [],
   "source": [
    "B = pd.DataFrame(B_dic)\n",
    "B.to_csv('B-Klasse.csv', index=False)"
   ]
  },
  {
   "cell_type": "code",
   "execution_count": 13,
   "metadata": {},
   "outputs": [],
   "source": [
    "Cl_dic = {}\n",
    "\n",
    "for item in items:\n",
    "    Cl_dic[item] = None"
   ]
  },
  {
   "cell_type": "code",
   "execution_count": 15,
   "metadata": {},
   "outputs": [
    {
     "name": "stdout",
     "output_type": "stream",
     "text": [
      "['C 200 d ', 'C 220 d 4MATIC']\n"
     ]
    }
   ],
   "source": [
    "getOption = getSome(r'C [0-2]{3} d? 4?M?A?T?I?C?',content)\n",
    "options_Cl = getOption.get()\n",
    "print(options_Cl)"
   ]
  },
  {
   "cell_type": "code",
   "execution_count": 16,
   "metadata": {},
   "outputs": [],
   "source": [
    "names_Cl = []\n",
    "\n",
    "for i in range(len(options_Cl)):\n",
    "    names_Cl.append('C-Klasse Limousine')"
   ]
  },
  {
   "cell_type": "code",
   "execution_count": 17,
   "metadata": {},
   "outputs": [
    {
     "data": {
      "text/plain": [
       "{'Name': ['C-Klasse Limousine', 'C-Klasse Limousine'],\n",
       " 'Option': ['C 200 d ', 'C 220 d 4MATIC'],\n",
       " 'Torque(Nm)': [380, 440],\n",
       " 'Engine/Zylinder': ['Diesel/R4', 'Diesel/R4'],\n",
       " 'Displacement(cm3)': [1993, 1993],\n",
       " 'Fuel Consumption(l/100 km)': ['5,2 - 4,6', '5,5 - 4,8'],\n",
       " 'CO2 Emissions(g/km)': ['137 - 120', '143 - 126'],\n",
       " 'Price(euro)': [50890, 55990]}"
      ]
     },
     "execution_count": 17,
     "metadata": {},
     "output_type": "execute_result"
    }
   ],
   "source": [
    "Cl_dic[n] = names_Cl\n",
    "Cl_dic[o] = options_Cl\n",
    "Cl_dic[tq] = [380, 440]\n",
    "Cl_dic[ez] = ['Diesel/R4', 'Diesel/R4']\n",
    "Cl_dic[dp] = [1993, 1993]\n",
    "Cl_dic[fc] = ['5,2 - 4,6', '5,5 - 4,8']\n",
    "Cl_dic[co2] = ['137 - 120', '143 - 126']\n",
    "Cl_dic[p] = [50890, 55990]\n",
    "\n",
    "Cl_dic"
   ]
  },
  {
   "cell_type": "code",
   "execution_count": 18,
   "metadata": {},
   "outputs": [],
   "source": [
    "Cl = pd.DataFrame(Cl_dic)\n",
    "Cl.to_csv('C-Klasse-Limousine.csv', index=False)"
   ]
  },
  {
   "cell_type": "code",
   "execution_count": 19,
   "metadata": {},
   "outputs": [],
   "source": [
    "Ct_dic = {}\n",
    "\n",
    "for item in items:\n",
    "    Ct_dic[item] = None"
   ]
  },
  {
   "cell_type": "code",
   "execution_count": 20,
   "metadata": {},
   "outputs": [],
   "source": [
    "options_Ct = [option for option in options_Cl]"
   ]
  },
  {
   "cell_type": "code",
   "execution_count": 21,
   "metadata": {},
   "outputs": [],
   "source": [
    "names_Ct = []\n",
    "\n",
    "for i in range(len(options_Ct)):\n",
    "    names_Ct.append('C-Klasse T-Modell')"
   ]
  },
  {
   "cell_type": "code",
   "execution_count": 22,
   "metadata": {},
   "outputs": [
    {
     "data": {
      "text/plain": [
       "{'Name': ['C-Klasse T-Modell', 'C-Klasse T-Modell'],\n",
       " 'Option': ['C 200 d ', 'C 220 d 4MATIC'],\n",
       " 'Torque(Nm)': [380, 440],\n",
       " 'Engine/Zylinder': ['Diesel/R4', 'Diesel/R4'],\n",
       " 'Displacement(cm3)': [1993, 1993],\n",
       " 'Fuel Consumption(l/100 km)': ['5,4 - 4,7', '5,6 - 5,0'],\n",
       " 'CO2 Emissions(g/km)': ['141 - 124', '147 - 130'],\n",
       " 'Price(euro)': [51090, 55990]}"
      ]
     },
     "execution_count": 22,
     "metadata": {},
     "output_type": "execute_result"
    }
   ],
   "source": [
    "Ct_dic[n] = names_Ct\n",
    "Ct_dic[o] = options_Ct\n",
    "Ct_dic[tq] = [380, 440]\n",
    "Ct_dic[ez] = ['Diesel/R4', 'Diesel/R4']\n",
    "Ct_dic[dp] = [1993, 1993]\n",
    "Ct_dic[fc] = ['5,4 - 4,7', '5,6 - 5,0']\n",
    "Ct_dic[co2] = ['141 - 124', '147 - 130']\n",
    "Ct_dic[p] = [51090, 55990]\n",
    "\n",
    "Ct_dic"
   ]
  },
  {
   "cell_type": "code",
   "execution_count": 23,
   "metadata": {},
   "outputs": [],
   "source": [
    "Ct = pd.DataFrame(Ct_dic)\n",
    "Ct.to_csv('C-Klasse-T-Modell.csv', index=False)"
   ]
  },
  {
   "cell_type": "code",
   "execution_count": 24,
   "metadata": {},
   "outputs": [],
   "source": [
    "CLA_dic = {}\n",
    "\n",
    "for item in items:\n",
    "    CLA_dic[item] = None"
   ]
  },
  {
   "cell_type": "code",
   "execution_count": 25,
   "metadata": {},
   "outputs": [
    {
     "name": "stdout",
     "output_type": "stream",
     "text": [
      "['CLA 180 d', 'CLA 200 d', 'CLA 250 e']\n"
     ]
    }
   ],
   "source": [
    "getOption = getSome(r'CLA [0-9]{3} [de]',content)\n",
    "options_CLA = getOption.get()\n",
    "print(options_CLA)"
   ]
  },
  {
   "cell_type": "code",
   "execution_count": 26,
   "metadata": {},
   "outputs": [],
   "source": [
    "names_CLA = []\n",
    "\n",
    "for i in range(len(options_CLA)):\n",
    "    names_CLA.append('CLA')"
   ]
  },
  {
   "cell_type": "code",
   "execution_count": 27,
   "metadata": {},
   "outputs": [
    {
     "data": {
      "text/plain": [
       "{'Name': ['CLA', 'CLA', 'CLA'],\n",
       " 'Option': ['CLA 180 d', 'CLA 200 d', 'CLA 250 e'],\n",
       " 'Torque(Nm)': [280, 320, 450],\n",
       " 'Engine/Zylinder': ['Diesel/R4', 'Diesel/R4', 'Hybrid/R4'],\n",
       " 'Displacement(cm3)': [1950, 1950, 1950],\n",
       " 'Fuel Consumption(l/100 km)': ['5,7 - 5,2', '5,6 - 5,0', '1,2 - 0,9'],\n",
       " 'CO2 Emissions(g/km)': ['149 - 135', '147 - 132', '27,0 - 20,0'],\n",
       " 'Price(euro)': [40490, 43990, 44390]}"
      ]
     },
     "execution_count": 27,
     "metadata": {},
     "output_type": "execute_result"
    }
   ],
   "source": [
    "CLA_dic[n] = names_CLA\n",
    "CLA_dic[o] = options_CLA\n",
    "CLA_dic[tq] = [280, 320, 450]\n",
    "CLA_dic[ez] = ['Diesel/R4', 'Diesel/R4', 'Hybrid/R4']\n",
    "CLA_dic[dp] = [1950, 1950, 1950]\n",
    "CLA_dic[fc] = ['5,7 - 5,2', '5,6 - 5,0', '1,2 - 0,9']\n",
    "CLA_dic[co2] = ['149 - 135', '147 - 132', '27,0 - 20,0']\n",
    "CLA_dic[p] = [40490, 43990, 44390]\n",
    "\n",
    "CLA_dic"
   ]
  },
  {
   "cell_type": "code",
   "execution_count": 29,
   "metadata": {},
   "outputs": [],
   "source": [
    "CLA = pd.DataFrame(CLA_dic)\n",
    "CLA.to_csv('CLA.csv', index=False)"
   ]
  },
  {
   "cell_type": "code",
   "execution_count": 30,
   "metadata": {},
   "outputs": [],
   "source": [
    "El_dic = {}\n",
    "\n",
    "for item in items:\n",
    "    El_dic[item] = None"
   ]
  },
  {
   "cell_type": "code",
   "execution_count": 31,
   "metadata": {},
   "outputs": [
    {
     "name": "stdout",
     "output_type": "stream",
     "text": [
      "['E 300 e ', 'E 300 e 4MATIC', 'E 300 de ', 'E 300 de 4MATIC']\n"
     ]
    }
   ],
   "source": [
    "getOption = getSome(r'E 300 [de]+ 4?M?A?T?I?C?',content)\n",
    "options_El = getOption.get()\n",
    "print(options_El)"
   ]
  },
  {
   "cell_type": "code",
   "execution_count": 32,
   "metadata": {},
   "outputs": [],
   "source": [
    "names_El = []\n",
    "\n",
    "for i in range(len(options_El)):\n",
    "    names_El.append('E-Klasse Limousine')"
   ]
  },
  {
   "cell_type": "code",
   "execution_count": 101,
   "metadata": {},
   "outputs": [
    {
     "data": {
      "text/plain": [
       "{'Name': ['E-Klasse Limousine',\n",
       "  'E-Klasse Limousine',\n",
       "  'E-Klasse Limousine',\n",
       "  'E-Klasse Limousine'],\n",
       " 'Option': ['E 300 e ', 'E 300 e 4MATIC', 'E 300 de ', 'E 300 de 4MATIC'],\n",
       " 'Torque(Nm)': [550, 550, 700, 700],\n",
       " 'Engine/Zylinder': ['Benziner/R4', 'Benziner/R4', 'Diesel/R4', 'Diesel/R4'],\n",
       " 'Displacement(cm3)': [1999, 1999, 1993, 1993],\n",
       " 'Fuel Consumption(l/100 km)': ['0,8 - 0,5',\n",
       "  '0,9 - 0,5',\n",
       "  '0,6 - 0,5',\n",
       "  '0,8 - 0,5'],\n",
       " 'CO2 Emissions(g/km)': ['18,0 - 12,0',\n",
       "  '20,0 - 14,0',\n",
       "  '16,0 - 12,0',\n",
       "  '20,0 - 14,0'],\n",
       " 'Price(euro)': [65506, 70062, 66525, 69958]}"
      ]
     },
     "execution_count": 101,
     "metadata": {},
     "output_type": "execute_result"
    }
   ],
   "source": [
    "El_dic[n] = names_El\n",
    "El_dic[o] = options_El\n",
    "El_dic[tq] = [550, 550, 700, 700]\n",
    "El_dic[ez] = ['Benziner/R4', 'Benziner/R4', 'Diesel/R4', 'Diesel/R4']\n",
    "El_dic[dp] = [1999, 1999, 1993, 1993]\n",
    "El_dic[fc] = ['0,8 - 0,5', '0,9 - 0,5', '0,6 - 0,5', '0,8 - 0,5']\n",
    "El_dic[co2] = ['18,0 - 12,0', '20,0 - 14,0', '16,0 - 12,0', '20,0 - 14,0']\n",
    "El_dic[p] = [65506, 70062, 66525, 69958]\n",
    "\n",
    "El_dic"
   ]
  },
  {
   "cell_type": "code",
   "execution_count": 103,
   "metadata": {},
   "outputs": [],
   "source": [
    "El = pd.DataFrame(El_dic)\n",
    "El.to_csv('E-Klasse-Limousine.csv', index=False)"
   ]
  },
  {
   "cell_type": "code",
   "execution_count": 35,
   "metadata": {},
   "outputs": [],
   "source": [
    "Et_dic = {}\n",
    "\n",
    "for item in items:\n",
    "    Et_dic[item] = None"
   ]
  },
  {
   "cell_type": "code",
   "execution_count": 36,
   "metadata": {},
   "outputs": [],
   "source": [
    "options_Et = [option for option in options_El if option != 'E 300 e 4MATIC']"
   ]
  },
  {
   "cell_type": "code",
   "execution_count": 37,
   "metadata": {},
   "outputs": [],
   "source": [
    "names_Et = []\n",
    "\n",
    "for i in range(len(options_Et)):\n",
    "    names_Et.append('E-Klasse T-Modell')"
   ]
  },
  {
   "cell_type": "code",
   "execution_count": 38,
   "metadata": {},
   "outputs": [
    {
     "data": {
      "text/plain": [
       "{'Name': ['E-Klasse T-Modell', 'E-Klasse T-Modell', 'E-Klasse T-Modell'],\n",
       " 'Option': ['E 300 e ', 'E 300 de ', 'E 300 de 4MATIC'],\n",
       " 'Torque(Nm)': [550, 700, 700],\n",
       " 'Engine/Zylinder': ['Hybrid/R4', 'Hybrid/R4', 'Hybrid/R4'],\n",
       " 'Displacement(cm3)': [1999, 1993, 1993],\n",
       " 'Fuel Consumption(l/100 km)': ['0,9 - 0,6', '0,7 - 0,5', '0,8 - 0,6'],\n",
       " 'CO2 Emissions(g/km)': ['19,0 - 13,0', '18,0 - 13,0', '22,0 - 16,0'],\n",
       " 'Price(euro)': [69265, 69706, 73183]}"
      ]
     },
     "execution_count": 38,
     "metadata": {},
     "output_type": "execute_result"
    }
   ],
   "source": [
    "Et_dic[n] = names_Et\n",
    "Et_dic[o] = options_Et\n",
    "Et_dic[tq] = [550, 700, 700]\n",
    "Et_dic[ez] = ['Hybrid/R4', 'Hybrid/R4', 'Hybrid/R4']\n",
    "Et_dic[dp] = [1999, 1993, 1993]\n",
    "Et_dic[fc] = ['0,9 - 0,6', '0,7 - 0,5', '0,8 - 0,6']\n",
    "Et_dic[co2] = ['19,0 - 13,0', '18,0 - 13,0', '22,0 - 16,0']\n",
    "Et_dic[p] = [69265, 69706, 73183]\n",
    "\n",
    "Et_dic"
   ]
  },
  {
   "cell_type": "code",
   "execution_count": 39,
   "metadata": {},
   "outputs": [],
   "source": [
    "Et = pd.DataFrame(Et_dic)\n",
    "Et.to_csv('E-Klasse-T-Modell.csv', index=False)"
   ]
  },
  {
   "cell_type": "code",
   "execution_count": 40,
   "metadata": {},
   "outputs": [],
   "source": [
    "GLA_dic = {}\n",
    "\n",
    "for item in items:\n",
    "    GLA_dic[item] = None"
   ]
  },
  {
   "cell_type": "code",
   "execution_count": 41,
   "metadata": {},
   "outputs": [
    {
     "name": "stdout",
     "output_type": "stream",
     "text": [
      "['GLA 180 ', 'GLA 200 d 4MATIC']\n"
     ]
    }
   ],
   "source": [
    "getOption = getSome(r'GLA [1280]{3} d? ?4?M?A?T?I?C?',content)\n",
    "options_GLA = getOption.get()\n",
    "print(options_GLA)"
   ]
  },
  {
   "cell_type": "code",
   "execution_count": 42,
   "metadata": {},
   "outputs": [],
   "source": [
    "names_GLA = []\n",
    "\n",
    "for i in range(len(options_GLA)):\n",
    "    names_GLA.append('GLA')"
   ]
  },
  {
   "cell_type": "code",
   "execution_count": 43,
   "metadata": {},
   "outputs": [
    {
     "data": {
      "text/plain": [
       "{'Name': ['GLA', 'GLA'],\n",
       " 'Option': ['GLA 180 ', 'GLA 200 d 4MATIC'],\n",
       " 'Torque(Nm)': [230, 320],\n",
       " 'Engine/Zylinder': ['Benziner/R4', 'Diesel/R4'],\n",
       " 'Displacement(cm3)': [1332, 1950],\n",
       " 'Fuel Consumption(l/100 km)': ['7,3 - 6,7', '6,2 - 5,6'],\n",
       " 'CO2 Emissions(g/km)': ['165 - 152', '162 - 148'],\n",
       " 'Price(euro)': [42790, 48360]}"
      ]
     },
     "execution_count": 43,
     "metadata": {},
     "output_type": "execute_result"
    }
   ],
   "source": [
    "GLA_dic[n] = names_GLA\n",
    "GLA_dic[o] = options_GLA\n",
    "GLA_dic[tq] = [230, 320]\n",
    "GLA_dic[ez] = ['Benziner/R4', 'Diesel/R4']\n",
    "GLA_dic[dp] = [1332, 1950]\n",
    "GLA_dic[fc] = ['7,3 - 6,7', '6,2 - 5,6']\n",
    "GLA_dic[co2] = ['165 - 152', '162 - 148']\n",
    "GLA_dic[p] = [42790, 48360]\n",
    "\n",
    "GLA_dic"
   ]
  },
  {
   "cell_type": "code",
   "execution_count": 45,
   "metadata": {},
   "outputs": [],
   "source": [
    "GLA = pd.DataFrame(GLA_dic)\n",
    "GLA.to_csv('GLA.csv', index=False)"
   ]
  },
  {
   "cell_type": "code",
   "execution_count": 46,
   "metadata": {},
   "outputs": [],
   "source": [
    "GLB_dic = {}\n",
    "\n",
    "for item in items:\n",
    "    GLB_dic[item] = None"
   ]
  },
  {
   "cell_type": "code",
   "execution_count": 47,
   "metadata": {},
   "outputs": [
    {
     "name": "stdout",
     "output_type": "stream",
     "text": [
      "['GLB 180 ', 'GLB 200 d 4MATIC']\n"
     ]
    }
   ],
   "source": [
    "getOption = getSome(r'GLB [1280]{3} d? ?4?M?A?T?I?C?',content)\n",
    "options_GLB = getOption.get()\n",
    "print(options_GLB)"
   ]
  },
  {
   "cell_type": "code",
   "execution_count": 48,
   "metadata": {},
   "outputs": [],
   "source": [
    "names_GLB = []\n",
    "\n",
    "for i in range(len(options_GLB)):\n",
    "    names_GLB.append('GLA')"
   ]
  },
  {
   "cell_type": "code",
   "execution_count": 49,
   "metadata": {},
   "outputs": [
    {
     "data": {
      "text/plain": [
       "{'Name': ['GLA', 'GLA'],\n",
       " 'Option': ['GLB 180 ', 'GLB 200 d 4MATIC'],\n",
       " 'Torque(Nm)': [230, 320],\n",
       " 'Engine/Zylinder': ['Benziner/R4', 'Diesel/R4'],\n",
       " 'Displacement(cm3)': [1332, 1950],\n",
       " 'Fuel Consumption(l/100 km)': ['7,6 - 7,0', '6,4 - 5,8'],\n",
       " 'CO2 Emissions(g/km)': ['173 - 158', '167 - 153'],\n",
       " 'Price(euro)': [44090, 50380]}"
      ]
     },
     "execution_count": 49,
     "metadata": {},
     "output_type": "execute_result"
    }
   ],
   "source": [
    "GLB_dic[n] = names_GLB\n",
    "GLB_dic[o] = options_GLB\n",
    "GLB_dic[tq] = [230, 320]\n",
    "GLB_dic[ez] = ['Benziner/R4', 'Diesel/R4']\n",
    "GLB_dic[dp] = [1332, 1950]\n",
    "GLB_dic[fc] = ['7,6 - 7,0', '6,4 - 5,8']\n",
    "GLB_dic[co2] = ['173 - 158', '167 - 153']\n",
    "GLB_dic[p] = [44090, 50380]\n",
    "\n",
    "GLB_dic"
   ]
  },
  {
   "cell_type": "code",
   "execution_count": 50,
   "metadata": {},
   "outputs": [],
   "source": [
    "GLB = pd.DataFrame(GLB_dic)\n",
    "GLB.to_csv('GLB.csv', index=False)"
   ]
  },
  {
   "cell_type": "code",
   "execution_count": 51,
   "metadata": {},
   "outputs": [],
   "source": [
    "GLCs_dic = {}\n",
    "\n",
    "for item in items:\n",
    "    GLCs_dic[item] = None"
   ]
  },
  {
   "cell_type": "code",
   "execution_count": 53,
   "metadata": {},
   "outputs": [
    {
     "name": "stdout",
     "output_type": "stream",
     "text": [
      "['GLC 300e 4MATIC', 'GLC 300 de 4MATIC']\n"
     ]
    }
   ],
   "source": [
    "getOption = getSome(r'GLC 300e? ?d?e? ?4?M?A?T?I?C?',content)\n",
    "options_GLCs = getOption.get()\n",
    "\n",
    "# eliminate overlapped element\n",
    "options_GLCs.pop()\n",
    "\n",
    "print(options_GLCs)"
   ]
  },
  {
   "cell_type": "code",
   "execution_count": 55,
   "metadata": {},
   "outputs": [],
   "source": [
    "names_GLCs = []\n",
    "\n",
    "for i in range(len(options_GLCs)):\n",
    "    names_GLCs.append('GLC SUV')"
   ]
  },
  {
   "cell_type": "code",
   "execution_count": 56,
   "metadata": {},
   "outputs": [
    {
     "data": {
      "text/plain": [
       "{'Name': ['GLC SUV', 'GLC SUV'],\n",
       " 'Option': ['GLC 300e 4MATIC', 'GLC 300 de 4MATIC'],\n",
       " 'Torque(Nm)': [None, None],\n",
       " 'Engine/Zylinder': [None, None],\n",
       " 'Displacement(cm3)': [1999, 1993],\n",
       " 'Fuel Consumption(l/100 km)': ['0,6 - 0,5', '0,5 - 0,4'],\n",
       " 'CO2 Emissions(g/km)': ['15 - 12', '14 - 10'],\n",
       " 'Price(euro)': [64500, 65660]}"
      ]
     },
     "execution_count": 56,
     "metadata": {},
     "output_type": "execute_result"
    }
   ],
   "source": [
    "GLCs_dic[n] = names_GLCs\n",
    "GLCs_dic[o] = options_GLCs\n",
    "GLCs_dic[tq] = [None, None]\n",
    "GLCs_dic[ez] = [None, None]\n",
    "GLCs_dic[dp] = [1999, 1993]\n",
    "GLCs_dic[fc] = ['0,6 - 0,5', '0,5 - 0,4']\n",
    "GLCs_dic[co2] = ['15 - 12', '14 - 10']\n",
    "GLCs_dic[p] = [64500, 65660]\n",
    "\n",
    "GLCs_dic"
   ]
  },
  {
   "cell_type": "code",
   "execution_count": 57,
   "metadata": {},
   "outputs": [],
   "source": [
    "GLCs = pd.DataFrame(GLCs_dic)\n",
    "GLCs.to_csv('GLC-SUV.csv', index=False)"
   ]
  },
  {
   "cell_type": "code",
   "execution_count": 58,
   "metadata": {},
   "outputs": [],
   "source": [
    "GLCc_dic = {}\n",
    "\n",
    "for item in items:\n",
    "    GLCc_dic[item] = None"
   ]
  },
  {
   "cell_type": "code",
   "execution_count": 59,
   "metadata": {},
   "outputs": [],
   "source": [
    "options_GLCc = [option for option in options_GLCs]"
   ]
  },
  {
   "cell_type": "code",
   "execution_count": 60,
   "metadata": {},
   "outputs": [],
   "source": [
    "names_GLCc = []\n",
    "\n",
    "for i in range(len(options_GLCc)):\n",
    "    names_GLCc.append('GLC Coupé')"
   ]
  },
  {
   "cell_type": "code",
   "execution_count": 61,
   "metadata": {},
   "outputs": [
    {
     "data": {
      "text/plain": [
       "{'Name': ['GLC Coupé', 'GLC Coupé'],\n",
       " 'Option': ['GLC 300e 4MATIC', 'GLC 300 de 4MATIC'],\n",
       " 'Torque(Nm)': [550, 750],\n",
       " 'Engine/Zylinder': ['Benziner/R4', 'Diesel/R4'],\n",
       " 'Displacement(cm3)': [1999, 1993],\n",
       " 'Fuel Consumption(l/100 km)': ['0,6 - 0,5', '0,5 - 0,4'],\n",
       " 'CO2 Emissions(g/km)': ['15,0 - 11,0', '13,0 - 10,0'],\n",
       " 'Price(euro)': [72200, 71850]}"
      ]
     },
     "execution_count": 61,
     "metadata": {},
     "output_type": "execute_result"
    }
   ],
   "source": [
    "GLCc_dic[n] = names_GLCc\n",
    "GLCc_dic[o] = options_GLCc\n",
    "GLCc_dic[tq] = [550, 750]\n",
    "GLCc_dic[ez] = ['Benziner/R4', 'Diesel/R4']\n",
    "GLCc_dic[dp] = [1999, 1993]\n",
    "GLCc_dic[fc] = ['0,6 - 0,5', '0,5 - 0,4']\n",
    "GLCc_dic[co2] = ['15,0 - 11,0', '13,0 - 10,0']\n",
    "GLCc_dic[p] = [72200, 71850]\n",
    "\n",
    "GLCc_dic"
   ]
  },
  {
   "cell_type": "code",
   "execution_count": 62,
   "metadata": {},
   "outputs": [],
   "source": [
    "GLCc = pd.DataFrame(GLCc_dic)\n",
    "GLCc.to_csv('GLC-Coupé.csv', index=False)"
   ]
  },
  {
   "cell_type": "code",
   "execution_count": 63,
   "metadata": {},
   "outputs": [],
   "source": [
    "GLEs_dic = {}\n",
    "\n",
    "for item in items:\n",
    "    GLEs_dic[item] = None"
   ]
  },
  {
   "cell_type": "code",
   "execution_count": 65,
   "metadata": {},
   "outputs": [
    {
     "name": "stdout",
     "output_type": "stream",
     "text": [
      "['GLE 350 de 4MATIC']\n"
     ]
    }
   ],
   "source": [
    "getOption = getSome(r'GLE 350 de 4MATIC',content)\n",
    "options_GLEs = getOption.get()\n",
    "print(options_GLEs)"
   ]
  },
  {
   "cell_type": "code",
   "execution_count": 66,
   "metadata": {},
   "outputs": [],
   "source": [
    "names_GLEs = []\n",
    "\n",
    "for i in range(len(options_GLEs)):\n",
    "    names_GLEs.append('GLE SUV')"
   ]
  },
  {
   "cell_type": "code",
   "execution_count": 67,
   "metadata": {},
   "outputs": [
    {
     "data": {
      "text/plain": [
       "{'Name': ['GLE SUV'],\n",
       " 'Option': ['GLE 350 de 4MATIC'],\n",
       " 'Torque(Nm)': [750],\n",
       " 'Engine/Zylinder': [None],\n",
       " 'Displacement(cm3)': [None],\n",
       " 'Fuel Consumption(l/100 km)': ['0,9 - 0,6'],\n",
       " 'CO2 Emissions(g/km)': ['23,0 - 17,0'],\n",
       " 'Price(euro)': [89690]}"
      ]
     },
     "execution_count": 67,
     "metadata": {},
     "output_type": "execute_result"
    }
   ],
   "source": [
    "GLEs_dic[n] = names_GLEs\n",
    "GLEs_dic[o] = options_GLEs\n",
    "GLEs_dic[tq] = [750]\n",
    "GLEs_dic[ez] = [None]\n",
    "GLEs_dic[dp] = [None]\n",
    "GLEs_dic[fc] = ['0,9 - 0,6']\n",
    "GLEs_dic[co2] = ['23,0 - 17,0']\n",
    "GLEs_dic[p] = [89690]\n",
    "\n",
    "GLEs_dic"
   ]
  },
  {
   "cell_type": "code",
   "execution_count": 68,
   "metadata": {},
   "outputs": [],
   "source": [
    "GLEs = pd.DataFrame(GLEs_dic)\n",
    "GLEs.to_csv('GLE-SUV.csv', index=False)"
   ]
  },
  {
   "cell_type": "code",
   "execution_count": 69,
   "metadata": {},
   "outputs": [],
   "source": [
    "GLEc_dic = {}\n",
    "\n",
    "for item in items:\n",
    "    GLEc_dic[item] = None"
   ]
  },
  {
   "cell_type": "code",
   "execution_count": 70,
   "metadata": {},
   "outputs": [],
   "source": [
    "options_GLEc = [option for option in options_GLEs]"
   ]
  },
  {
   "cell_type": "code",
   "execution_count": 72,
   "metadata": {},
   "outputs": [],
   "source": [
    "names_GLEc = []\n",
    "\n",
    "for i in range(len(options_GLEc)):\n",
    "    names_GLEc.append('GLE Coupé')"
   ]
  },
  {
   "cell_type": "code",
   "execution_count": 73,
   "metadata": {},
   "outputs": [
    {
     "data": {
      "text/plain": [
       "{'Name': ['GLE Coupé'],\n",
       " 'Option': ['GLE 350 de 4MATIC'],\n",
       " 'Torque(Nm)': [750],\n",
       " 'Engine/Zylinder': ['Diesel/R4'],\n",
       " 'Displacement(cm3)': [1993],\n",
       " 'Fuel Consumption(l/100 km)': ['0,8 - 0,7'],\n",
       " 'CO2 Emissions(g/km)': ['20,0 - 16,0'],\n",
       " 'Price(euro)': [102190]}"
      ]
     },
     "execution_count": 73,
     "metadata": {},
     "output_type": "execute_result"
    }
   ],
   "source": [
    "GLEc_dic[n] = names_GLEc\n",
    "GLEc_dic[o] = options_GLEc\n",
    "GLEc_dic[tq] = [750]\n",
    "GLEc_dic[ez] = ['Diesel/R4']\n",
    "GLEc_dic[dp] = [1993]\n",
    "GLEc_dic[fc] = ['0,8 - 0,7']\n",
    "GLEc_dic[co2] = ['20,0 - 16,0']\n",
    "GLEc_dic[p] = [102190]\n",
    "\n",
    "GLEc_dic"
   ]
  },
  {
   "cell_type": "code",
   "execution_count": 75,
   "metadata": {},
   "outputs": [],
   "source": [
    "GLEc = pd.DataFrame(GLEc_dic)\n",
    "GLEc.to_csv('GLE-Coupé.csv', index=False)"
   ]
  },
  {
   "cell_type": "code",
   "execution_count": 81,
   "metadata": {
    "executionInfo": {
     "elapsed": 6,
     "status": "ok",
     "timestamp": 1705591027709,
     "user": {
      "displayName": "서광원",
      "userId": "16565142075503869200"
     },
     "user_tz": -60
    },
    "id": "zt4oJ6TD_Oof"
   },
   "outputs": [],
   "source": [
    "n = 'Name'\n",
    "o = 'Option'\n",
    "bc = 'Battery Capacity(kWh)'\n",
    "tq = 'Torque(Nm)'\n",
    "rg = 'Drive Range(Min - Max(km))'\n",
    "p = 'Price(euro)'\n",
    "\n",
    "items_for_EV = [n, o, bc, tq, rg, p]"
   ]
  },
  {
   "cell_type": "code",
   "execution_count": 82,
   "metadata": {},
   "outputs": [],
   "source": [
    "EQA_dic = {}\n",
    "\n",
    "for item in items_for_EV:\n",
    "    EQA_dic[item] = None"
   ]
  },
  {
   "cell_type": "code",
   "execution_count": 78,
   "metadata": {},
   "outputs": [
    {
     "name": "stdout",
     "output_type": "stream",
     "text": [
      "['EQA 250 ', 'EQA 250+ ', 'EQA 300 4MATIC']\n"
     ]
    }
   ],
   "source": [
    "getOption = getSome(r'EQA [2350]{3}\\+? ?4?M?A?T?I?C?',content)\n",
    "options_EQA = getOption.get()\n",
    "print(options_EQA)"
   ]
  },
  {
   "cell_type": "code",
   "execution_count": 79,
   "metadata": {},
   "outputs": [],
   "source": [
    "names_EQA = []\n",
    "\n",
    "for i in range(len(options_EQA)):\n",
    "    names_EQA.append('EQA')"
   ]
  },
  {
   "cell_type": "code",
   "execution_count": 83,
   "metadata": {},
   "outputs": [
    {
     "data": {
      "text/plain": [
       "{'Name': ['EQA', 'EQA', 'EQA'],\n",
       " 'Option': ['EQA 250 ', 'EQA 250+ ', 'EQA 300 4MATIC'],\n",
       " 'Battery Capacity(kWh)': [66.5, 70.5, 66.5],\n",
       " 'Torque(Nm)': [385, 385, 390],\n",
       " 'Drive Range(Min - Max(km))': ['457 – 525', '497 – 559', '412 – 457'],\n",
       " 'Price(euro)': [49990, 52990, 54990]}"
      ]
     },
     "execution_count": 83,
     "metadata": {},
     "output_type": "execute_result"
    }
   ],
   "source": [
    "EQA_dic[n] = names_EQA\n",
    "EQA_dic[o] = options_EQA\n",
    "EQA_dic[bc] = [66.5, 70.5, 66.5]\n",
    "EQA_dic[tq] = [385, 385, 390]\n",
    "EQA_dic[rg] = ['457 – 525', '497 – 559', '412 – 457']\n",
    "EQA_dic[p] = [49990, 52990, 54990]\n",
    "\n",
    "EQA_dic"
   ]
  },
  {
   "cell_type": "code",
   "execution_count": 84,
   "metadata": {},
   "outputs": [],
   "source": [
    "EQA = pd.DataFrame(EQA_dic)\n",
    "EQA.to_csv('EQA.csv', index=False)"
   ]
  },
  {
   "cell_type": "code",
   "execution_count": 85,
   "metadata": {},
   "outputs": [],
   "source": [
    "EQB_dic = {}\n",
    "\n",
    "for item in items_for_EV:\n",
    "    EQB_dic[item] = None"
   ]
  },
  {
   "cell_type": "code",
   "execution_count": 86,
   "metadata": {},
   "outputs": [
    {
     "name": "stdout",
     "output_type": "stream",
     "text": [
      "['EQB 250+ ', 'EQB 300 4MATIC']\n"
     ]
    }
   ],
   "source": [
    "getOption = getSome(r'EQB [2350]{3}\\+? ?4?M?A?T?I?C?',content)\n",
    "options_EQB = getOption.get()\n",
    "print(options_EQB)"
   ]
  },
  {
   "cell_type": "code",
   "execution_count": 87,
   "metadata": {},
   "outputs": [],
   "source": [
    "names_EQB = []\n",
    "\n",
    "for i in range(len(options_EQB)):\n",
    "    names_EQB.append('EQB')"
   ]
  },
  {
   "cell_type": "code",
   "execution_count": 88,
   "metadata": {},
   "outputs": [
    {
     "data": {
      "text/plain": [
       "{'Name': ['EQB', 'EQB'],\n",
       " 'Option': ['EQB 250+ ', 'EQB 300 4MATIC'],\n",
       " 'Battery Capacity(kWh)': [70.5, 66.5],\n",
       " 'Torque(Nm)': [385, 390],\n",
       " 'Drive Range(Min - Max(km))': ['464 – 533', '396 – 444'],\n",
       " 'Price(euro)': [55490, 57290]}"
      ]
     },
     "execution_count": 88,
     "metadata": {},
     "output_type": "execute_result"
    }
   ],
   "source": [
    "EQB_dic[n] = names_EQB\n",
    "EQB_dic[o] = options_EQB\n",
    "EQB_dic[bc] = [70.5, 66.5]\n",
    "EQB_dic[tq] = [385, 390]\n",
    "EQB_dic[rg] = ['464 – 533', '396 – 444']\n",
    "EQB_dic[p] = [55490, 57290]\n",
    "\n",
    "EQB_dic"
   ]
  },
  {
   "cell_type": "code",
   "execution_count": 89,
   "metadata": {},
   "outputs": [],
   "source": [
    "EQB = pd.DataFrame(EQB_dic)\n",
    "EQB.to_csv('EQB.csv', index=False)"
   ]
  },
  {
   "cell_type": "code",
   "execution_count": 90,
   "metadata": {},
   "outputs": [],
   "source": [
    "EQE_dic = {}\n",
    "\n",
    "for item in items_for_EV:\n",
    "    EQE_dic[item] = None"
   ]
  },
  {
   "cell_type": "code",
   "execution_count": 91,
   "metadata": {},
   "outputs": [
    {
     "name": "stdout",
     "output_type": "stream",
     "text": [
      "['EQE 300 ', 'EQE 350', 'EQE 350+', 'EQE 350 4MATIC', 'EQE 500 4MATIC', 'EQE 43 4MATIC', 'EQE 53 4MATIC+']\n"
     ]
    }
   ],
   "source": [
    "getOption = getSome(r'EQE [3450]{2,3}\\+? ?4?M?A?T?I?C?\\+?',content)\n",
    "options_EQE = getOption.get()\n",
    "\n",
    "# eliminate overlapped element\n",
    "options_EQE.pop()\n",
    "\n",
    "print(options_EQE)"
   ]
  },
  {
   "cell_type": "code",
   "execution_count": 92,
   "metadata": {},
   "outputs": [],
   "source": [
    "names_EQE = []\n",
    "\n",
    "for i in range(len(options_EQE)):\n",
    "    names_EQE.append('EQE')"
   ]
  },
  {
   "cell_type": "code",
   "execution_count": 93,
   "metadata": {},
   "outputs": [
    {
     "data": {
      "text/plain": [
       "{'Name': ['EQE', 'EQE', 'EQE', 'EQE', 'EQE', 'EQE', 'EQE'],\n",
       " 'Option': ['EQE 300 ',\n",
       "  'EQE 350',\n",
       "  'EQE 350+',\n",
       "  'EQE 350 4MATIC',\n",
       "  'EQE 500 4MATIC',\n",
       "  'EQE 43 4MATIC',\n",
       "  'EQE 53 4MATIC+'],\n",
       " 'Battery Capacity(kWh)': [89, 89, 90.56, 89, 90.56, 90.56, 90.56],\n",
       " 'Torque(Nm)': [550, 565, 565, 765, 858, 858, 950],\n",
       " 'Drive Range(Min - Max(km))': ['532 - 614',\n",
       "  '532 - 614',\n",
       "  '644 - 675',\n",
       "  '537 - 615',\n",
       "  '537 - 612',\n",
       "  '436 - 503',\n",
       "  '441 - 502'],\n",
       " 'Price(euro)': [59760, 68690, 71890, 71890, 85690, 102090, 108090]}"
      ]
     },
     "execution_count": 93,
     "metadata": {},
     "output_type": "execute_result"
    }
   ],
   "source": [
    "EQE_dic[n] = names_EQE\n",
    "EQE_dic[o] = options_EQE\n",
    "EQE_dic[bc] = [89, 89, 90.56, 89, 90.56, 90.56, 90.56]\n",
    "EQE_dic[tq] = [550, 565, 565, 765, 858, 858, 950]\n",
    "EQE_dic[rg] = ['532 - 614', '532 - 614', '644 - 675', '537 - 615', '537 - 612', '436 - 503', '441 - 502']\n",
    "EQE_dic[p] = [59760, 68690, 71890, 71890, 85690, 102090, 108090]\n",
    "\n",
    "EQE_dic"
   ]
  },
  {
   "cell_type": "code",
   "execution_count": 94,
   "metadata": {},
   "outputs": [],
   "source": [
    "EQE_ = pd.DataFrame(EQE_dic)\n",
    "EQE_.to_csv('EQE.csv', index=False)"
   ]
  },
  {
   "cell_type": "code",
   "execution_count": 95,
   "metadata": {},
   "outputs": [],
   "source": [
    "EQEs_dic = {}\n",
    "\n",
    "for item in items_for_EV:\n",
    "    EQEs_dic[item] = None"
   ]
  },
  {
   "cell_type": "code",
   "execution_count": 97,
   "metadata": {},
   "outputs": [],
   "source": [
    "options_EQEs = [option for option in options_EQE if option != 'EQE 300 ' and option != 'EQE 350']"
   ]
  },
  {
   "cell_type": "code",
   "execution_count": 98,
   "metadata": {},
   "outputs": [],
   "source": [
    "names_EQEs = []\n",
    "\n",
    "for i in range(len(options_EQEs)):\n",
    "    names_EQEs.append('EQE SUV')"
   ]
  },
  {
   "cell_type": "code",
   "execution_count": 99,
   "metadata": {},
   "outputs": [
    {
     "data": {
      "text/plain": [
       "{'Name': ['EQE SUV', 'EQE SUV', 'EQE SUV', 'EQE SUV', 'EQE SUV'],\n",
       " 'Option': ['EQE 350+',\n",
       "  'EQE 350 4MATIC',\n",
       "  'EQE 500 4MATIC',\n",
       "  'EQE 43 4MATIC',\n",
       "  'EQE 53 4MATIC+'],\n",
       " 'Battery Capacity(kWh)': [96, 90.56, 96, 90.56, 90.56],\n",
       " 'Torque(Nm)': [565, 765, 858, 858, 950],\n",
       " 'Drive Range(Min - Max(km))': ['537 - 614',\n",
       "  '479 - 553',\n",
       "  '514 - 594',\n",
       "  '426 - 469',\n",
       "  '411 - 451'],\n",
       " 'Price(euro)': [83440, 85990, 94890, 117390, 130200]}"
      ]
     },
     "execution_count": 99,
     "metadata": {},
     "output_type": "execute_result"
    }
   ],
   "source": [
    "EQEs_dic[n] = names_EQEs\n",
    "EQEs_dic[o] = options_EQEs\n",
    "EQEs_dic[bc] = [96, 90.56, 96, 90.56, 90.56]\n",
    "EQEs_dic[tq] = [565, 765, 858, 858, 950]\n",
    "EQEs_dic[rg] = ['537 - 614', '479 - 553', '514 - 594', '426 - 469', '411 - 451']\n",
    "EQEs_dic[p] = [83440, 85990, 94890, 117390, 130200]\n",
    "\n",
    "EQEs_dic"
   ]
  },
  {
   "cell_type": "code",
   "execution_count": 100,
   "metadata": {},
   "outputs": [],
   "source": [
    "EQEs = pd.DataFrame(EQEs_dic)\n",
    "EQEs.to_csv('EQE-SUV.csv', index=False)"
   ]
  }
 ],
 "metadata": {
  "colab": {
   "provenance": []
  },
  "kernelspec": {
   "display_name": "Python 3 (ipykernel)",
   "language": "python",
   "name": "python3"
  },
  "language_info": {
   "codemirror_mode": {
    "name": "ipython",
    "version": 3
   },
   "file_extension": ".py",
   "mimetype": "text/x-python",
   "name": "python",
   "nbconvert_exporter": "python",
   "pygments_lexer": "ipython3",
   "version": "3.9.12"
  }
 },
 "nbformat": 4,
 "nbformat_minor": 1
}
